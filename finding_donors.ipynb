{
  "cells": [
    {
      "cell_type": "markdown",
      "metadata": {
        "id": "yKR7FoWXm8EK"
      },
      "source": [
        "# Introduction to Machine Learning with PyTorch\n",
        "## Project: Finding Donors for *CharityML*"
      ]
    },
    {
      "cell_type": "markdown",
      "metadata": {
        "id": "-Qxd40Fem8EL"
      },
      "source": [
        "Welcome to the first project of the Data Scientist Nanodegree! In this notebook, some template code has already been provided for you, and it will be your job to implement the additional functionality necessary to successfully complete this project. Sections that begin with **'Implementation'** in the header indicate that the following block of code will require additional functionality which you must provide. Instructions will be provided for each section and the specifics of the implementation are marked in the code block with a `TODO` statement. Please be sure to read the instructions carefully!\n",
        "\n",
        "In addition to implementing code, there will be questions that you must answer which relate to the project and your implementation. Each section where you will answer a question is preceded by a **'Question X'** header. Carefully read each question and provide thorough answers in the following text boxes that begin with **'Answer:'**. Your project submission will be evaluated based on your answers to each of the questions and the implementation you provide.  \n",
        "\n",
        ">**Note:** Please specify **WHICH VERSION OF PYTHON** you are using when submitting this notebook. Code and Markdown cells can be executed using the **Shift + Enter** keyboard shortcut. In addition, Markdown cells can be edited by typically double-clicking the cell to enter edit mode."
      ]
    },
    {
      "cell_type": "markdown",
      "metadata": {
        "id": "sVgSAb96m8EM"
      },
      "source": [
        "## Getting Started\n",
        "\n",
        "In this project, you will employ several supervised algorithms of your choice to accurately model individuals' income using data collected from the 1994 U.S. Census. You will then choose the best candidate algorithm from preliminary results and further optimize this algorithm to best model the data. Your goal with this implementation is to construct a model that accurately predicts whether an individual makes more than $50,000. This sort of task can arise in a non-profit setting, where organizations survive on donations.  Understanding an individual's income can help a non-profit better understand how large of a donation to request, or whether or not they should reach out to begin with.  While it can be difficult to determine an individual's general income bracket directly from public sources, we can (as we will see) infer this value from other publically available features.\n",
        "\n",
        "The dataset for this project originates from the [UCI Machine Learning Repository](https://archive.ics.uci.edu/ml/datasets/Census+Income). The datset was donated by Ron Kohavi and Barry Becker, after being published in the article _\"Scaling Up the Accuracy of Naive-Bayes Classifiers: A Decision-Tree Hybrid\"_. You can find the article by Ron Kohavi [online](https://www.aaai.org/Papers/KDD/1996/KDD96-033.pdf). The data we investigate here consists of small changes to the original dataset, such as removing the `fnlwgt` feature and records with missing or ill-formatted entries."
      ]
    },
    {
      "cell_type": "markdown",
      "metadata": {
        "id": "O2YB4XZMm8EM"
      },
      "source": [
        "----\n",
        "## Exploring the Data\n",
        "Run the code cell below to load necessary Python libraries and load the census data. Note that the last column from this dataset, `income`, will be our target label (whether an individual makes more than, or at most, $50,000 annually). All other columns are features about each individual in the census database."
      ]
    },
    {
      "cell_type": "code",
      "execution_count": null,
      "metadata": {
        "colab": {
          "base_uri": "https://localhost:8080/",
          "height": 153
        },
        "id": "bQhHn4F_m8EM",
        "outputId": "5b6cbc39-ed24-4a48-cec0-0ab18223ed2f"
      },
      "outputs": [
        {
          "output_type": "display_data",
          "data": {
            "text/plain": [
              "   age   workclass education_level  education-num  marital-status  \\\n",
              "0   39   State-gov       Bachelors           13.0   Never-married   \n",
              "\n",
              "      occupation    relationship    race    sex  capital-gain  capital-loss  \\\n",
              "0   Adm-clerical   Not-in-family   White   Male        2174.0           0.0   \n",
              "\n",
              "   hours-per-week  native-country income  \n",
              "0            40.0   United-States  <=50K  "
            ],
            "text/html": [
              "\n",
              "  <div id=\"df-764d076e-50cf-4986-ad20-be70cfb5eddc\" class=\"colab-df-container\">\n",
              "    <div>\n",
              "<style scoped>\n",
              "    .dataframe tbody tr th:only-of-type {\n",
              "        vertical-align: middle;\n",
              "    }\n",
              "\n",
              "    .dataframe tbody tr th {\n",
              "        vertical-align: top;\n",
              "    }\n",
              "\n",
              "    .dataframe thead th {\n",
              "        text-align: right;\n",
              "    }\n",
              "</style>\n",
              "<table border=\"1\" class=\"dataframe\">\n",
              "  <thead>\n",
              "    <tr style=\"text-align: right;\">\n",
              "      <th></th>\n",
              "      <th>age</th>\n",
              "      <th>workclass</th>\n",
              "      <th>education_level</th>\n",
              "      <th>education-num</th>\n",
              "      <th>marital-status</th>\n",
              "      <th>occupation</th>\n",
              "      <th>relationship</th>\n",
              "      <th>race</th>\n",
              "      <th>sex</th>\n",
              "      <th>capital-gain</th>\n",
              "      <th>capital-loss</th>\n",
              "      <th>hours-per-week</th>\n",
              "      <th>native-country</th>\n",
              "      <th>income</th>\n",
              "    </tr>\n",
              "  </thead>\n",
              "  <tbody>\n",
              "    <tr>\n",
              "      <th>0</th>\n",
              "      <td>39</td>\n",
              "      <td>State-gov</td>\n",
              "      <td>Bachelors</td>\n",
              "      <td>13.0</td>\n",
              "      <td>Never-married</td>\n",
              "      <td>Adm-clerical</td>\n",
              "      <td>Not-in-family</td>\n",
              "      <td>White</td>\n",
              "      <td>Male</td>\n",
              "      <td>2174.0</td>\n",
              "      <td>0.0</td>\n",
              "      <td>40.0</td>\n",
              "      <td>United-States</td>\n",
              "      <td>&lt;=50K</td>\n",
              "    </tr>\n",
              "  </tbody>\n",
              "</table>\n",
              "</div>\n",
              "    <div class=\"colab-df-buttons\">\n",
              "\n",
              "  <div class=\"colab-df-container\">\n",
              "    <button class=\"colab-df-convert\" onclick=\"convertToInteractive('df-764d076e-50cf-4986-ad20-be70cfb5eddc')\"\n",
              "            title=\"Convert this dataframe to an interactive table.\"\n",
              "            style=\"display:none;\">\n",
              "\n",
              "  <svg xmlns=\"http://www.w3.org/2000/svg\" height=\"24px\" viewBox=\"0 -960 960 960\">\n",
              "    <path d=\"M120-120v-720h720v720H120Zm60-500h600v-160H180v160Zm220 220h160v-160H400v160Zm0 220h160v-160H400v160ZM180-400h160v-160H180v160Zm440 0h160v-160H620v160ZM180-180h160v-160H180v160Zm440 0h160v-160H620v160Z\"/>\n",
              "  </svg>\n",
              "    </button>\n",
              "\n",
              "  <style>\n",
              "    .colab-df-container {\n",
              "      display:flex;\n",
              "      gap: 12px;\n",
              "    }\n",
              "\n",
              "    .colab-df-convert {\n",
              "      background-color: #E8F0FE;\n",
              "      border: none;\n",
              "      border-radius: 50%;\n",
              "      cursor: pointer;\n",
              "      display: none;\n",
              "      fill: #1967D2;\n",
              "      height: 32px;\n",
              "      padding: 0 0 0 0;\n",
              "      width: 32px;\n",
              "    }\n",
              "\n",
              "    .colab-df-convert:hover {\n",
              "      background-color: #E2EBFA;\n",
              "      box-shadow: 0px 1px 2px rgba(60, 64, 67, 0.3), 0px 1px 3px 1px rgba(60, 64, 67, 0.15);\n",
              "      fill: #174EA6;\n",
              "    }\n",
              "\n",
              "    .colab-df-buttons div {\n",
              "      margin-bottom: 4px;\n",
              "    }\n",
              "\n",
              "    [theme=dark] .colab-df-convert {\n",
              "      background-color: #3B4455;\n",
              "      fill: #D2E3FC;\n",
              "    }\n",
              "\n",
              "    [theme=dark] .colab-df-convert:hover {\n",
              "      background-color: #434B5C;\n",
              "      box-shadow: 0px 1px 3px 1px rgba(0, 0, 0, 0.15);\n",
              "      filter: drop-shadow(0px 1px 2px rgba(0, 0, 0, 0.3));\n",
              "      fill: #FFFFFF;\n",
              "    }\n",
              "  </style>\n",
              "\n",
              "    <script>\n",
              "      const buttonEl =\n",
              "        document.querySelector('#df-764d076e-50cf-4986-ad20-be70cfb5eddc button.colab-df-convert');\n",
              "      buttonEl.style.display =\n",
              "        google.colab.kernel.accessAllowed ? 'block' : 'none';\n",
              "\n",
              "      async function convertToInteractive(key) {\n",
              "        const element = document.querySelector('#df-764d076e-50cf-4986-ad20-be70cfb5eddc');\n",
              "        const dataTable =\n",
              "          await google.colab.kernel.invokeFunction('convertToInteractive',\n",
              "                                                    [key], {});\n",
              "        if (!dataTable) return;\n",
              "\n",
              "        const docLinkHtml = 'Like what you see? Visit the ' +\n",
              "          '<a target=\"_blank\" href=https://colab.research.google.com/notebooks/data_table.ipynb>data table notebook</a>'\n",
              "          + ' to learn more about interactive tables.';\n",
              "        element.innerHTML = '';\n",
              "        dataTable['output_type'] = 'display_data';\n",
              "        await google.colab.output.renderOutput(dataTable, element);\n",
              "        const docLink = document.createElement('div');\n",
              "        docLink.innerHTML = docLinkHtml;\n",
              "        element.appendChild(docLink);\n",
              "      }\n",
              "    </script>\n",
              "  </div>\n",
              "\n",
              "\n",
              "    </div>\n",
              "  </div>\n"
            ],
            "application/vnd.google.colaboratory.intrinsic+json": {
              "type": "dataframe",
              "summary": "{\n  \"name\": \"display(data\",\n  \"rows\": 1,\n  \"fields\": [\n    {\n      \"column\": \"age\",\n      \"properties\": {\n        \"dtype\": \"number\",\n        \"std\": null,\n        \"min\": 39,\n        \"max\": 39,\n        \"num_unique_values\": 1,\n        \"samples\": [\n          39\n        ],\n        \"semantic_type\": \"\",\n        \"description\": \"\"\n      }\n    },\n    {\n      \"column\": \"workclass\",\n      \"properties\": {\n        \"dtype\": \"string\",\n        \"num_unique_values\": 1,\n        \"samples\": [\n          \" State-gov\"\n        ],\n        \"semantic_type\": \"\",\n        \"description\": \"\"\n      }\n    },\n    {\n      \"column\": \"education_level\",\n      \"properties\": {\n        \"dtype\": \"string\",\n        \"num_unique_values\": 1,\n        \"samples\": [\n          \" Bachelors\"\n        ],\n        \"semantic_type\": \"\",\n        \"description\": \"\"\n      }\n    },\n    {\n      \"column\": \"education-num\",\n      \"properties\": {\n        \"dtype\": \"number\",\n        \"std\": null,\n        \"min\": 13.0,\n        \"max\": 13.0,\n        \"num_unique_values\": 1,\n        \"samples\": [\n          13.0\n        ],\n        \"semantic_type\": \"\",\n        \"description\": \"\"\n      }\n    },\n    {\n      \"column\": \"marital-status\",\n      \"properties\": {\n        \"dtype\": \"string\",\n        \"num_unique_values\": 1,\n        \"samples\": [\n          \" Never-married\"\n        ],\n        \"semantic_type\": \"\",\n        \"description\": \"\"\n      }\n    },\n    {\n      \"column\": \"occupation\",\n      \"properties\": {\n        \"dtype\": \"string\",\n        \"num_unique_values\": 1,\n        \"samples\": [\n          \" Adm-clerical\"\n        ],\n        \"semantic_type\": \"\",\n        \"description\": \"\"\n      }\n    },\n    {\n      \"column\": \"relationship\",\n      \"properties\": {\n        \"dtype\": \"string\",\n        \"num_unique_values\": 1,\n        \"samples\": [\n          \" Not-in-family\"\n        ],\n        \"semantic_type\": \"\",\n        \"description\": \"\"\n      }\n    },\n    {\n      \"column\": \"race\",\n      \"properties\": {\n        \"dtype\": \"string\",\n        \"num_unique_values\": 1,\n        \"samples\": [\n          \" White\"\n        ],\n        \"semantic_type\": \"\",\n        \"description\": \"\"\n      }\n    },\n    {\n      \"column\": \"sex\",\n      \"properties\": {\n        \"dtype\": \"string\",\n        \"num_unique_values\": 1,\n        \"samples\": [\n          \" Male\"\n        ],\n        \"semantic_type\": \"\",\n        \"description\": \"\"\n      }\n    },\n    {\n      \"column\": \"capital-gain\",\n      \"properties\": {\n        \"dtype\": \"number\",\n        \"std\": null,\n        \"min\": 2174.0,\n        \"max\": 2174.0,\n        \"num_unique_values\": 1,\n        \"samples\": [\n          2174.0\n        ],\n        \"semantic_type\": \"\",\n        \"description\": \"\"\n      }\n    },\n    {\n      \"column\": \"capital-loss\",\n      \"properties\": {\n        \"dtype\": \"number\",\n        \"std\": null,\n        \"min\": 0.0,\n        \"max\": 0.0,\n        \"num_unique_values\": 1,\n        \"samples\": [\n          0.0\n        ],\n        \"semantic_type\": \"\",\n        \"description\": \"\"\n      }\n    },\n    {\n      \"column\": \"hours-per-week\",\n      \"properties\": {\n        \"dtype\": \"number\",\n        \"std\": null,\n        \"min\": 40.0,\n        \"max\": 40.0,\n        \"num_unique_values\": 1,\n        \"samples\": [\n          40.0\n        ],\n        \"semantic_type\": \"\",\n        \"description\": \"\"\n      }\n    },\n    {\n      \"column\": \"native-country\",\n      \"properties\": {\n        \"dtype\": \"string\",\n        \"num_unique_values\": 1,\n        \"samples\": [\n          \" United-States\"\n        ],\n        \"semantic_type\": \"\",\n        \"description\": \"\"\n      }\n    },\n    {\n      \"column\": \"income\",\n      \"properties\": {\n        \"dtype\": \"string\",\n        \"num_unique_values\": 1,\n        \"samples\": [\n          \"<=50K\"\n        ],\n        \"semantic_type\": \"\",\n        \"description\": \"\"\n      }\n    }\n  ]\n}"
            }
          },
          "metadata": {}
        }
      ],
      "source": [
        "# Import libraries necessary for this project\n",
        "import numpy as np\n",
        "import pandas as pd\n",
        "from time import time\n",
        "from IPython.display import display # Allows the use of display() for DataFrames\n",
        "\n",
        "# Import supplementary visualization code visuals.py\n",
        "import visuals as vs\n",
        "\n",
        "# Pretty display for notebooks\n",
        "%matplotlib inline\n",
        "\n",
        "# Load the Census dataset\n",
        "data = pd.read_csv(\"census.csv\")\n",
        "\n",
        "# Success - Display the first record\n",
        "display(data.head(n=1))"
      ]
    },
    {
      "cell_type": "markdown",
      "metadata": {
        "id": "ndau322bm8EN"
      },
      "source": [
        "### Implementation: Data Exploration\n",
        "A cursory investigation of the dataset will determine how many individuals fit into either group, and will tell us about the percentage of these individuals making more than $50,000. In the code cell below, you will need to compute the following:\n",
        "- The total number of records, `n_records`\n",
        "- The number of individuals making more than $50,000 annually, `n_greater_50k`.\n",
        "- The number of individuals making at most $50,000 annually, `n_at_most_50k`.\n",
        "- The percentage of individuals making more than $50,000 annually, `greater_percent`.\n",
        "\n",
        "**HINT:** You may need to look at the table above to understand how the `income` entries are formatted."
      ]
    },
    {
      "cell_type": "code",
      "execution_count": null,
      "metadata": {
        "collapsed": true,
        "colab": {
          "base_uri": "https://localhost:8080/",
          "height": 225
        },
        "id": "0F5mq2BAm8EN",
        "outputId": "2bd01b4a-6714-47d3-b6ea-c6c41ab9e209"
      },
      "outputs": [
        {
          "output_type": "display_data",
          "data": {
            "text/plain": [
              "   age   workclass education_level  education-num  marital-status  \\\n",
              "0   39   State-gov       Bachelors           13.0   Never-married   \n",
              "\n",
              "      occupation    relationship    race    sex  capital-gain  capital-loss  \\\n",
              "0   Adm-clerical   Not-in-family   White   Male        2174.0           0.0   \n",
              "\n",
              "   hours-per-week  native-country income  \n",
              "0            40.0   United-States  <=50K  "
            ],
            "text/html": [
              "\n",
              "  <div id=\"df-d2744549-b316-4b7d-99df-24e04d29b6e6\" class=\"colab-df-container\">\n",
              "    <div>\n",
              "<style scoped>\n",
              "    .dataframe tbody tr th:only-of-type {\n",
              "        vertical-align: middle;\n",
              "    }\n",
              "\n",
              "    .dataframe tbody tr th {\n",
              "        vertical-align: top;\n",
              "    }\n",
              "\n",
              "    .dataframe thead th {\n",
              "        text-align: right;\n",
              "    }\n",
              "</style>\n",
              "<table border=\"1\" class=\"dataframe\">\n",
              "  <thead>\n",
              "    <tr style=\"text-align: right;\">\n",
              "      <th></th>\n",
              "      <th>age</th>\n",
              "      <th>workclass</th>\n",
              "      <th>education_level</th>\n",
              "      <th>education-num</th>\n",
              "      <th>marital-status</th>\n",
              "      <th>occupation</th>\n",
              "      <th>relationship</th>\n",
              "      <th>race</th>\n",
              "      <th>sex</th>\n",
              "      <th>capital-gain</th>\n",
              "      <th>capital-loss</th>\n",
              "      <th>hours-per-week</th>\n",
              "      <th>native-country</th>\n",
              "      <th>income</th>\n",
              "    </tr>\n",
              "  </thead>\n",
              "  <tbody>\n",
              "    <tr>\n",
              "      <th>0</th>\n",
              "      <td>39</td>\n",
              "      <td>State-gov</td>\n",
              "      <td>Bachelors</td>\n",
              "      <td>13.0</td>\n",
              "      <td>Never-married</td>\n",
              "      <td>Adm-clerical</td>\n",
              "      <td>Not-in-family</td>\n",
              "      <td>White</td>\n",
              "      <td>Male</td>\n",
              "      <td>2174.0</td>\n",
              "      <td>0.0</td>\n",
              "      <td>40.0</td>\n",
              "      <td>United-States</td>\n",
              "      <td>&lt;=50K</td>\n",
              "    </tr>\n",
              "  </tbody>\n",
              "</table>\n",
              "</div>\n",
              "    <div class=\"colab-df-buttons\">\n",
              "\n",
              "  <div class=\"colab-df-container\">\n",
              "    <button class=\"colab-df-convert\" onclick=\"convertToInteractive('df-d2744549-b316-4b7d-99df-24e04d29b6e6')\"\n",
              "            title=\"Convert this dataframe to an interactive table.\"\n",
              "            style=\"display:none;\">\n",
              "\n",
              "  <svg xmlns=\"http://www.w3.org/2000/svg\" height=\"24px\" viewBox=\"0 -960 960 960\">\n",
              "    <path d=\"M120-120v-720h720v720H120Zm60-500h600v-160H180v160Zm220 220h160v-160H400v160Zm0 220h160v-160H400v160ZM180-400h160v-160H180v160Zm440 0h160v-160H620v160ZM180-180h160v-160H180v160Zm440 0h160v-160H620v160Z\"/>\n",
              "  </svg>\n",
              "    </button>\n",
              "\n",
              "  <style>\n",
              "    .colab-df-container {\n",
              "      display:flex;\n",
              "      gap: 12px;\n",
              "    }\n",
              "\n",
              "    .colab-df-convert {\n",
              "      background-color: #E8F0FE;\n",
              "      border: none;\n",
              "      border-radius: 50%;\n",
              "      cursor: pointer;\n",
              "      display: none;\n",
              "      fill: #1967D2;\n",
              "      height: 32px;\n",
              "      padding: 0 0 0 0;\n",
              "      width: 32px;\n",
              "    }\n",
              "\n",
              "    .colab-df-convert:hover {\n",
              "      background-color: #E2EBFA;\n",
              "      box-shadow: 0px 1px 2px rgba(60, 64, 67, 0.3), 0px 1px 3px 1px rgba(60, 64, 67, 0.15);\n",
              "      fill: #174EA6;\n",
              "    }\n",
              "\n",
              "    .colab-df-buttons div {\n",
              "      margin-bottom: 4px;\n",
              "    }\n",
              "\n",
              "    [theme=dark] .colab-df-convert {\n",
              "      background-color: #3B4455;\n",
              "      fill: #D2E3FC;\n",
              "    }\n",
              "\n",
              "    [theme=dark] .colab-df-convert:hover {\n",
              "      background-color: #434B5C;\n",
              "      box-shadow: 0px 1px 3px 1px rgba(0, 0, 0, 0.15);\n",
              "      filter: drop-shadow(0px 1px 2px rgba(0, 0, 0, 0.3));\n",
              "      fill: #FFFFFF;\n",
              "    }\n",
              "  </style>\n",
              "\n",
              "    <script>\n",
              "      const buttonEl =\n",
              "        document.querySelector('#df-d2744549-b316-4b7d-99df-24e04d29b6e6 button.colab-df-convert');\n",
              "      buttonEl.style.display =\n",
              "        google.colab.kernel.accessAllowed ? 'block' : 'none';\n",
              "\n",
              "      async function convertToInteractive(key) {\n",
              "        const element = document.querySelector('#df-d2744549-b316-4b7d-99df-24e04d29b6e6');\n",
              "        const dataTable =\n",
              "          await google.colab.kernel.invokeFunction('convertToInteractive',\n",
              "                                                    [key], {});\n",
              "        if (!dataTable) return;\n",
              "\n",
              "        const docLinkHtml = 'Like what you see? Visit the ' +\n",
              "          '<a target=\"_blank\" href=https://colab.research.google.com/notebooks/data_table.ipynb>data table notebook</a>'\n",
              "          + ' to learn more about interactive tables.';\n",
              "        element.innerHTML = '';\n",
              "        dataTable['output_type'] = 'display_data';\n",
              "        await google.colab.output.renderOutput(dataTable, element);\n",
              "        const docLink = document.createElement('div');\n",
              "        docLink.innerHTML = docLinkHtml;\n",
              "        element.appendChild(docLink);\n",
              "      }\n",
              "    </script>\n",
              "  </div>\n",
              "\n",
              "\n",
              "    </div>\n",
              "  </div>\n"
            ],
            "application/vnd.google.colaboratory.intrinsic+json": {
              "type": "dataframe",
              "summary": "{\n  \"name\": \"print(\\\"Percentage of individuals making more than $50,000: {:\",\n  \"rows\": 1,\n  \"fields\": [\n    {\n      \"column\": \"age\",\n      \"properties\": {\n        \"dtype\": \"number\",\n        \"std\": null,\n        \"min\": 39,\n        \"max\": 39,\n        \"num_unique_values\": 1,\n        \"samples\": [\n          39\n        ],\n        \"semantic_type\": \"\",\n        \"description\": \"\"\n      }\n    },\n    {\n      \"column\": \"workclass\",\n      \"properties\": {\n        \"dtype\": \"string\",\n        \"num_unique_values\": 1,\n        \"samples\": [\n          \" State-gov\"\n        ],\n        \"semantic_type\": \"\",\n        \"description\": \"\"\n      }\n    },\n    {\n      \"column\": \"education_level\",\n      \"properties\": {\n        \"dtype\": \"string\",\n        \"num_unique_values\": 1,\n        \"samples\": [\n          \" Bachelors\"\n        ],\n        \"semantic_type\": \"\",\n        \"description\": \"\"\n      }\n    },\n    {\n      \"column\": \"education-num\",\n      \"properties\": {\n        \"dtype\": \"number\",\n        \"std\": null,\n        \"min\": 13.0,\n        \"max\": 13.0,\n        \"num_unique_values\": 1,\n        \"samples\": [\n          13.0\n        ],\n        \"semantic_type\": \"\",\n        \"description\": \"\"\n      }\n    },\n    {\n      \"column\": \"marital-status\",\n      \"properties\": {\n        \"dtype\": \"string\",\n        \"num_unique_values\": 1,\n        \"samples\": [\n          \" Never-married\"\n        ],\n        \"semantic_type\": \"\",\n        \"description\": \"\"\n      }\n    },\n    {\n      \"column\": \"occupation\",\n      \"properties\": {\n        \"dtype\": \"string\",\n        \"num_unique_values\": 1,\n        \"samples\": [\n          \" Adm-clerical\"\n        ],\n        \"semantic_type\": \"\",\n        \"description\": \"\"\n      }\n    },\n    {\n      \"column\": \"relationship\",\n      \"properties\": {\n        \"dtype\": \"string\",\n        \"num_unique_values\": 1,\n        \"samples\": [\n          \" Not-in-family\"\n        ],\n        \"semantic_type\": \"\",\n        \"description\": \"\"\n      }\n    },\n    {\n      \"column\": \"race\",\n      \"properties\": {\n        \"dtype\": \"string\",\n        \"num_unique_values\": 1,\n        \"samples\": [\n          \" White\"\n        ],\n        \"semantic_type\": \"\",\n        \"description\": \"\"\n      }\n    },\n    {\n      \"column\": \"sex\",\n      \"properties\": {\n        \"dtype\": \"string\",\n        \"num_unique_values\": 1,\n        \"samples\": [\n          \" Male\"\n        ],\n        \"semantic_type\": \"\",\n        \"description\": \"\"\n      }\n    },\n    {\n      \"column\": \"capital-gain\",\n      \"properties\": {\n        \"dtype\": \"number\",\n        \"std\": null,\n        \"min\": 2174.0,\n        \"max\": 2174.0,\n        \"num_unique_values\": 1,\n        \"samples\": [\n          2174.0\n        ],\n        \"semantic_type\": \"\",\n        \"description\": \"\"\n      }\n    },\n    {\n      \"column\": \"capital-loss\",\n      \"properties\": {\n        \"dtype\": \"number\",\n        \"std\": null,\n        \"min\": 0.0,\n        \"max\": 0.0,\n        \"num_unique_values\": 1,\n        \"samples\": [\n          0.0\n        ],\n        \"semantic_type\": \"\",\n        \"description\": \"\"\n      }\n    },\n    {\n      \"column\": \"hours-per-week\",\n      \"properties\": {\n        \"dtype\": \"number\",\n        \"std\": null,\n        \"min\": 40.0,\n        \"max\": 40.0,\n        \"num_unique_values\": 1,\n        \"samples\": [\n          40.0\n        ],\n        \"semantic_type\": \"\",\n        \"description\": \"\"\n      }\n    },\n    {\n      \"column\": \"native-country\",\n      \"properties\": {\n        \"dtype\": \"string\",\n        \"num_unique_values\": 1,\n        \"samples\": [\n          \" United-States\"\n        ],\n        \"semantic_type\": \"\",\n        \"description\": \"\"\n      }\n    },\n    {\n      \"column\": \"income\",\n      \"properties\": {\n        \"dtype\": \"string\",\n        \"num_unique_values\": 1,\n        \"samples\": [\n          \"<=50K\"\n        ],\n        \"semantic_type\": \"\",\n        \"description\": \"\"\n      }\n    }\n  ]\n}"
            }
          },
          "metadata": {}
        },
        {
          "output_type": "stream",
          "name": "stdout",
          "text": [
            "Total number of records: 45222\n",
            "Individuals making more than $50,000: 11208\n",
            "Individuals making at most $50,000: 34014\n",
            "Percentage of individuals making more than $50,000: 24.78%\n"
          ]
        }
      ],
      "source": [
        "# # TODO: Total number of records\n",
        "# n_records = None\n",
        "\n",
        "# # TODO: Number of records where individual's income is more than $50,000\n",
        "# n_greater_50k = None\n",
        "\n",
        "# # TODO: Number of records where individual's income is at most $50,000\n",
        "# n_at_most_50k = None\n",
        "\n",
        "# # TODO: Percentage of individuals whose income is more than $50,000\n",
        "# greater_percent = None\n",
        "\n",
        "# # Print the results\n",
        "# print(\"Total number of records: {}\".format(n_records))\n",
        "# print(\"Individuals making more than $50,000: {}\".format(n_greater_50k))\n",
        "# print(\"Individuals making at most $50,000: {}\".format(n_at_most_50k))\n",
        "# print(\"Percentage of individuals making more than $50,000: {}%\".format(greater_percent))\n",
        "\n",
        "#_________________________________________________________________________________________________\n",
        "\n",
        "import numpy as np\n",
        "import pandas as pd\n",
        "from time import time\n",
        "from IPython.display import display\n",
        "\n",
        "import visuals as vs\n",
        "\n",
        "#  displaying the  notebooks\n",
        "%matplotlib inline\n",
        "\n",
        "data = pd.read_csv(\"census.csv\")\n",
        "\n",
        "display(data.head(n=1))\n",
        "\n",
        "n_records = data.shape[0]\n",
        "\n",
        "# individual's income is more than $50,000\n",
        "n_greater_50k = data[data['income'] == '>50K'].shape[0]\n",
        "\n",
        "# where individual's income is at most $50,000\n",
        "n_at_most_50k = data[data['income'] == '<=50K'].shape[0]\n",
        "\n",
        "# Percentage of individuals whose income is more than $50,000\n",
        "greater_percent = (n_greater_50k / n_records) * 100\n",
        "\n",
        "\n",
        "print(\"Total number of records: {}\".format(n_records))\n",
        "print(\"Individuals making more than $50,000: {}\".format(n_greater_50k))\n",
        "print(\"Individuals making at most $50,000: {}\".format(n_at_most_50k))\n",
        "print(\"Percentage of individuals making more than $50,000: {:.2f}%\".format(greater_percent))\n"
      ]
    },
    {
      "cell_type": "markdown",
      "metadata": {
        "id": "pso3H3m-m8EN"
      },
      "source": [
        "**Featureset Exploration**\n",
        "\n",
        "* **age**: continuous.\n",
        "* **workclass**: Private, Self-emp-not-inc, Self-emp-inc, Federal-gov, Local-gov, State-gov, Without-pay, Never-worked.\n",
        "* **education**: Bachelors, Some-college, 11th, HS-grad, Prof-school, Assoc-acdm, Assoc-voc, 9th, 7th-8th, 12th, Masters, 1st-4th, 10th, Doctorate, 5th-6th, Preschool.\n",
        "* **education-num**: continuous.\n",
        "* **marital-status**: Married-civ-spouse, Divorced, Never-married, Separated, Widowed, Married-spouse-absent, Married-AF-spouse.\n",
        "* **occupation**: Tech-support, Craft-repair, Other-service, Sales, Exec-managerial, Prof-specialty, Handlers-cleaners, Machine-op-inspct, Adm-clerical, Farming-fishing, Transport-moving, Priv-house-serv, Protective-serv, Armed-Forces.\n",
        "* **relationship**: Wife, Own-child, Husband, Not-in-family, Other-relative, Unmarried.\n",
        "* **race**: Black, White, Asian-Pac-Islander, Amer-Indian-Eskimo, Other.\n",
        "* **sex**: Female, Male.\n",
        "* **capital-gain**: continuous.\n",
        "* **capital-loss**: continuous.\n",
        "* **hours-per-week**: continuous.\n",
        "* **native-country**: United-States, Cambodia, England, Puerto-Rico, Canada, Germany, Outlying-US(Guam-USVI-etc), India, Japan, Greece, South, China, Cuba, Iran, Honduras, Philippines, Italy, Poland, Jamaica, Vietnam, Mexico, Portugal, Ireland, France, Dominican-Republic, Laos, Ecuador, Taiwan, Haiti, Columbia, Hungary, Guatemala, Nicaragua, Scotland, Thailand, Yugoslavia, El-Salvador, Trinadad&Tobago, Peru, Hong, Holand-Netherlands."
      ]
    },
    {
      "cell_type": "markdown",
      "metadata": {
        "id": "pcP6Hm6Em8EN"
      },
      "source": [
        "----\n",
        "## Preparing the Data\n",
        "Before data can be used as input for machine learning algorithms, it often must be cleaned, formatted, and restructured — this is typically known as **preprocessing**. Fortunately, for this dataset, there are no invalid or missing entries we must deal with, however, there are some qualities about certain features that must be adjusted. This preprocessing can help tremendously with the outcome and predictive power of nearly all learning algorithms."
      ]
    },
    {
      "cell_type": "markdown",
      "metadata": {
        "id": "RUPWwM0-m8EN"
      },
      "source": [
        "### Transforming Skewed Continuous Features\n",
        "A dataset may sometimes contain at least one feature whose values tend to lie near a single number, but will also have a non-trivial number of vastly larger or smaller values than that single number.  Algorithms can be sensitive to such distributions of values and can underperform if the range is not properly normalized. With the census dataset two features fit this description: `capital-gain` and `capital-loss`.\n",
        "\n",
        "Run the code cell below to plot a histogram of these two features. Note the range of the values present and how they are distributed."
      ]
    },
    {
      "cell_type": "code",
      "execution_count": null,
      "metadata": {
        "collapsed": true,
        "colab": {
          "base_uri": "https://localhost:8080/",
          "height": 434
        },
        "id": "sZr_ahwPm8EN",
        "outputId": "631ddfaf-9b67-4e4a-f433-8653d68180c0"
      },
      "outputs": [
        {
          "output_type": "display_data",
          "data": {
            "text/plain": [
              "<Figure size 1100x500 with 2 Axes>"
            ],
            "image/png": "[encoded data removed]"
          },
          "metadata": {}
        }
      ],
      "source": [
        "# Split the data into features and target label\n",
        "income_raw = data['income']\n",
        "features_raw = data.drop('income', axis = 1)\n",
        "\n",
        "# Visualize skewed continuous features of original data\n",
        "vs.distribution(data)"
      ]
    },
    {
      "cell_type": "markdown",
      "metadata": {
        "id": "eOrt5YQ_m8EO"
      },
      "source": [
        "For highly-skewed feature distributions such as `capital-gain` and `capital-loss`, it is common practice to apply a [logarithmic transformation](https://en.wikipedia.org/wiki/Data_transformation_(statistics)) on the data so that the very large and very small values do not negatively affect the performance of a learning algorithm. Using a logarithmic transformation significantly reduces the range of values caused by outliers. Care must be taken when applying this transformation however: The logarithm of 0 is undefined, so we must translate the values by a small amount above 0 to apply the the logarithm successfully.\n",
        "\n",
        "Run the code cell below to perform a transformation on the data and visualize the results. Again, note the range of values and how they are distributed."
      ]
    },
    {
      "cell_type": "code",
      "execution_count": null,
      "metadata": {
        "collapsed": true,
        "colab": {
          "base_uri": "https://localhost:8080/",
          "height": 434
        },
        "id": "dm12KUoPm8EO",
        "outputId": "dcbdf136-5b26-48b2-d3f0-884d236f9e9c"
      },
      "outputs": [
        {
          "output_type": "display_data",
          "data": {
            "text/plain": [
              "<Figure size 1100x500 with 2 Axes>"
            ],
            "image/png": "[encoded data removed]"
          },
          "metadata": {}
        }
      ],
      "source": [
        "# Log-transform the skewed features\n",
        "skewed = ['capital-gain', 'capital-loss']\n",
        "features_log_transformed = pd.DataFrame(data = features_raw)\n",
        "features_log_transformed[skewed] = features_raw[skewed].apply(lambda x: np.log(x + 1))\n",
        "\n",
        "# Visualize the new log distributions\n",
        "vs.distribution(features_log_transformed, transformed = True)"
      ]
    },
    {
      "cell_type": "markdown",
      "metadata": {
        "id": "jljzcECcm8EO"
      },
      "source": [
        "### Normalizing Numerical Features\n",
        "In addition to performing transformations on features that are highly skewed, it is often good practice to perform some type of scaling on numerical features. Applying a scaling to the data does not change the shape of each feature's distribution (such as `capital-gain` or `capital-loss` above); however, normalization ensures that each feature is treated equally when applying supervised learners. Note that once scaling is applied, observing the data in its raw form will no longer have the same original meaning, as exampled below.\n",
        "\n",
        "Run the code cell below to normalize each numerical feature. We will use [`sklearn.preprocessing.MinMaxScaler`](http://scikit-learn.org/stable/modules/generated/sklearn.preprocessing.MinMaxScaler.html) for this."
      ]
    },
    {
      "cell_type": "code",
      "execution_count": null,
      "metadata": {
        "collapsed": true,
        "colab": {
          "base_uri": "https://localhost:8080/",
          "height": 399
        },
        "id": "14N5YHYTm8EO",
        "outputId": "0f051121-c772-460f-ed30-c27b792b7465"
      },
      "outputs": [
        {
          "output_type": "display_data",
          "data": {
            "text/plain": [
              "        age          workclass education_level  education-num  \\\n",
              "0  0.301370          State-gov       Bachelors       0.800000   \n",
              "1  0.452055   Self-emp-not-inc       Bachelors       0.800000   \n",
              "2  0.287671            Private         HS-grad       0.533333   \n",
              "3  0.493151            Private            11th       0.400000   \n",
              "4  0.150685            Private       Bachelors       0.800000   \n",
              "\n",
              "        marital-status          occupation    relationship    race      sex  \\\n",
              "0        Never-married        Adm-clerical   Not-in-family   White     Male   \n",
              "1   Married-civ-spouse     Exec-managerial         Husband   White     Male   \n",
              "2             Divorced   Handlers-cleaners   Not-in-family   White     Male   \n",
              "3   Married-civ-spouse   Handlers-cleaners         Husband   Black     Male   \n",
              "4   Married-civ-spouse      Prof-specialty            Wife   Black   Female   \n",
              "\n",
              "   capital-gain  capital-loss  hours-per-week  native-country  \n",
              "0      0.667492           0.0        0.397959   United-States  \n",
              "1      0.000000           0.0        0.122449   United-States  \n",
              "2      0.000000           0.0        0.397959   United-States  \n",
              "3      0.000000           0.0        0.397959   United-States  \n",
              "4      0.000000           0.0        0.397959            Cuba  "
            ],
            "text/html": [
              "\n",
              "  <div id=\"df-3bb9567f-7ced-417f-956e-818383a241ba\" class=\"colab-df-container\">\n",
              "    <div>\n",
              "<style scoped>\n",
              "    .dataframe tbody tr th:only-of-type {\n",
              "        vertical-align: middle;\n",
              "    }\n",
              "\n",
              "    .dataframe tbody tr th {\n",
              "        vertical-align: top;\n",
              "    }\n",
              "\n",
              "    .dataframe thead th {\n",
              "        text-align: right;\n",
              "    }\n",
              "</style>\n",
              "<table border=\"1\" class=\"dataframe\">\n",
              "  <thead>\n",
              "    <tr style=\"text-align: right;\">\n",
              "      <th></th>\n",
              "      <th>age</th>\n",
              "      <th>workclass</th>\n",
              "      <th>education_level</th>\n",
              "      <th>education-num</th>\n",
              "      <th>marital-status</th>\n",
              "      <th>occupation</th>\n",
              "      <th>relationship</th>\n",
              "      <th>race</th>\n",
              "      <th>sex</th>\n",
              "      <th>capital-gain</th>\n",
              "      <th>capital-loss</th>\n",
              "      <th>hours-per-week</th>\n",
              "      <th>native-country</th>\n",
              "    </tr>\n",
              "  </thead>\n",
              "  <tbody>\n",
              "    <tr>\n",
              "      <th>0</th>\n",
              "      <td>0.301370</td>\n",
              "      <td>State-gov</td>\n",
              "      <td>Bachelors</td>\n",
              "      <td>0.800000</td>\n",
              "      <td>Never-married</td>\n",
              "      <td>Adm-clerical</td>\n",
              "      <td>Not-in-family</td>\n",
              "      <td>White</td>\n",
              "      <td>Male</td>\n",
              "      <td>0.667492</td>\n",
              "      <td>0.0</td>\n",
              "      <td>0.397959</td>\n",
              "      <td>United-States</td>\n",
              "    </tr>\n",
              "    <tr>\n",
              "      <th>1</th>\n",
              "      <td>0.452055</td>\n",
              "      <td>Self-emp-not-inc</td>\n",
              "      <td>Bachelors</td>\n",
              "      <td>0.800000</td>\n",
              "      <td>Married-civ-spouse</td>\n",
              "      <td>Exec-managerial</td>\n",
              "      <td>Husband</td>\n",
              "      <td>White</td>\n",
              "      <td>Male</td>\n",
              "      <td>0.000000</td>\n",
              "      <td>0.0</td>\n",
              "      <td>0.122449</td>\n",
              "      <td>United-States</td>\n",
              "    </tr>\n",
              "    <tr>\n",
              "      <th>2</th>\n",
              "      <td>0.287671</td>\n",
              "      <td>Private</td>\n",
              "      <td>HS-grad</td>\n",
              "      <td>0.533333</td>\n",
              "      <td>Divorced</td>\n",
              "      <td>Handlers-cleaners</td>\n",
              "      <td>Not-in-family</td>\n",
              "      <td>White</td>\n",
              "      <td>Male</td>\n",
              "      <td>0.000000</td>\n",
              "      <td>0.0</td>\n",
              "      <td>0.397959</td>\n",
              "      <td>United-States</td>\n",
              "    </tr>\n",
              "    <tr>\n",
              "      <th>3</th>\n",
              "      <td>0.493151</td>\n",
              "      <td>Private</td>\n",
              "      <td>11th</td>\n",
              "      <td>0.400000</td>\n",
              "      <td>Married-civ-spouse</td>\n",
              "      <td>Handlers-cleaners</td>\n",
              "      <td>Husband</td>\n",
              "      <td>Black</td>\n",
              "      <td>Male</td>\n",
              "      <td>0.000000</td>\n",
              "      <td>0.0</td>\n",
              "      <td>0.397959</td>\n",
              "      <td>United-States</td>\n",
              "    </tr>\n",
              "    <tr>\n",
              "      <th>4</th>\n",
              "      <td>0.150685</td>\n",
              "      <td>Private</td>\n",
              "      <td>Bachelors</td>\n",
              "      <td>0.800000</td>\n",
              "      <td>Married-civ-spouse</td>\n",
              "      <td>Prof-specialty</td>\n",
              "      <td>Wife</td>\n",
              "      <td>Black</td>\n",
              "      <td>Female</td>\n",
              "      <td>0.000000</td>\n",
              "      <td>0.0</td>\n",
              "      <td>0.397959</td>\n",
              "      <td>Cuba</td>\n",
              "    </tr>\n",
              "  </tbody>\n",
              "</table>\n",
              "</div>\n",
              "    <div class=\"colab-df-buttons\">\n",
              "\n",
              "  <div class=\"colab-df-container\">\n",
              "    <button class=\"colab-df-convert\" onclick=\"convertToInteractive('df-3bb9567f-7ced-417f-956e-818383a241ba')\"\n",
              "            title=\"Convert this dataframe to an interactive table.\"\n",
              "            style=\"display:none;\">\n",
              "\n",
              "  <svg xmlns=\"http://www.w3.org/2000/svg\" height=\"24px\" viewBox=\"0 -960 960 960\">\n",
              "    <path d=\"M120-120v-720h720v720H120Zm60-500h600v-160H180v160Zm220 220h160v-160H400v160Zm0 220h160v-160H400v160ZM180-400h160v-160H180v160Zm440 0h160v-160H620v160ZM180-180h160v-160H180v160Zm440 0h160v-160H620v160Z\"/>\n",
              "  </svg>\n",
              "    </button>\n",
              "\n",
              "  <style>\n",
              "    .colab-df-container {\n",
              "      display:flex;\n",
              "      gap: 12px;\n",
              "    }\n",
              "\n",
              "    .colab-df-convert {\n",
              "      background-color: #E8F0FE;\n",
              "      border: none;\n",
              "      border-radius: 50%;\n",
              "      cursor: pointer;\n",
              "      display: none;\n",
              "      fill: #1967D2;\n",
              "      height: 32px;\n",
              "      padding: 0 0 0 0;\n",
              "      width: 32px;\n",
              "    }\n",
              "\n",
              "    .colab-df-convert:hover {\n",
              "      background-color: #E2EBFA;\n",
              "      box-shadow: 0px 1px 2px rgba(60, 64, 67, 0.3), 0px 1px 3px 1px rgba(60, 64, 67, 0.15);\n",
              "      fill: #174EA6;\n",
              "    }\n",
              "\n",
              "    .colab-df-buttons div {\n",
              "      margin-bottom: 4px;\n",
              "    }\n",
              "\n",
              "    [theme=dark] .colab-df-convert {\n",
              "      background-color: #3B4455;\n",
              "      fill: #D2E3FC;\n",
              "    }\n",
              "\n",
              "    [theme=dark] .colab-df-convert:hover {\n",
              "      background-color: #434B5C;\n",
              "      box-shadow: 0px 1px 3px 1px rgba(0, 0, 0, 0.15);\n",
              "      filter: drop-shadow(0px 1px 2px rgba(0, 0, 0, 0.3));\n",
              "      fill: #FFFFFF;\n",
              "    }\n",
              "  </style>\n",
              "\n",
              "    <script>\n",
              "      const buttonEl =\n",
              "        document.querySelector('#df-3bb9567f-7ced-417f-956e-818383a241ba button.colab-df-convert');\n",
              "      buttonEl.style.display =\n",
              "        google.colab.kernel.accessAllowed ? 'block' : 'none';\n",
              "\n",
              "      async function convertToInteractive(key) {\n",
              "        const element = document.querySelector('#df-3bb9567f-7ced-417f-956e-818383a241ba');\n",
              "        const dataTable =\n",
              "          await google.colab.kernel.invokeFunction('convertToInteractive',\n",
              "                                                    [key], {});\n",
              "        if (!dataTable) return;\n",
              "\n",
              "        const docLinkHtml = 'Like what you see? Visit the ' +\n",
              "          '<a target=\"_blank\" href=https://colab.research.google.com/notebooks/data_table.ipynb>data table notebook</a>'\n",
              "          + ' to learn more about interactive tables.';\n",
              "        element.innerHTML = '';\n",
              "        dataTable['output_type'] = 'display_data';\n",
              "        await google.colab.output.renderOutput(dataTable, element);\n",
              "        const docLink = document.createElement('div');\n",
              "        docLink.innerHTML = docLinkHtml;\n",
              "        element.appendChild(docLink);\n",
              "      }\n",
              "    </script>\n",
              "  </div>\n",
              "\n",
              "\n",
              "<div id=\"df-410f0f75-873e-4c10-bf72-bf3c778c317f\">\n",
              "  <button class=\"colab-df-quickchart\" onclick=\"quickchart('df-410f0f75-873e-4c10-bf72-bf3c778c317f')\"\n",
              "            title=\"Suggest charts\"\n",
              "            style=\"display:none;\">\n",
              "\n",
              "<svg xmlns=\"http://www.w3.org/2000/svg\" height=\"24px\"viewBox=\"0 0 24 24\"\n",
              "     width=\"24px\">\n",
              "    <g>\n",
              "        <path d=\"M19 3H5c-1.1 0-2 .9-2 2v14c0 1.1.9 2 2 2h14c1.1 0 2-.9 2-2V5c0-1.1-.9-2-2-2zM9 17H7v-7h2v7zm4 0h-2V7h2v10zm4 0h-2v-4h2v4z\"/>\n",
              "    </g>\n",
              "</svg>\n",
              "  </button>\n",
              "\n",
              "<style>\n",
              "  .colab-df-quickchart {\n",
              "      --bg-color: #E8F0FE;\n",
              "      --fill-color: #1967D2;\n",
              "      --hover-bg-color: #E2EBFA;\n",
              "      --hover-fill-color: #174EA6;\n",
              "      --disabled-fill-color: #AAA;\n",
              "      --disabled-bg-color: #DDD;\n",
              "  }\n",
              "\n",
              "  [theme=dark] .colab-df-quickchart {\n",
              "      --bg-color: #3B4455;\n",
              "      --fill-color: #D2E3FC;\n",
              "      --hover-bg-color: #434B5C;\n",
              "      --hover-fill-color: #FFFFFF;\n",
              "      --disabled-bg-color: #3B4455;\n",
              "      --disabled-fill-color: #666;\n",
              "  }\n",
              "\n",
              "  .colab-df-quickchart {\n",
              "    background-color: var(--bg-color);\n",
              "    border: none;\n",
              "    border-radius: 50%;\n",
              "    cursor: pointer;\n",
              "    display: none;\n",
              "    fill: var(--fill-color);\n",
              "    height: 32px;\n",
              "    padding: 0;\n",
              "    width: 32px;\n",
              "  }\n",
              "\n",
              "  .colab-df-quickchart:hover {\n",
              "    background-color: var(--hover-bg-color);\n",
              "    box-shadow: 0 1px 2px rgba(60, 64, 67, 0.3), 0 1px 3px 1px rgba(60, 64, 67, 0.15);\n",
              "    fill: var(--button-hover-fill-color);\n",
              "  }\n",
              "\n",
              "  .colab-df-quickchart-complete:disabled,\n",
              "  .colab-df-quickchart-complete:disabled:hover {\n",
              "    background-color: var(--disabled-bg-color);\n",
              "    fill: var(--disabled-fill-color);\n",
              "    box-shadow: none;\n",
              "  }\n",
              "\n",
              "  .colab-df-spinner {\n",
              "    border: 2px solid var(--fill-color);\n",
              "    border-color: transparent;\n",
              "    border-bottom-color: var(--fill-color);\n",
              "    animation:\n",
              "      spin 1s steps(1) infinite;\n",
              "  }\n",
              "\n",
              "  @keyframes spin {\n",
              "    0% {\n",
              "      border-color: transparent;\n",
              "      border-bottom-color: var(--fill-color);\n",
              "      border-left-color: var(--fill-color);\n",
              "    }\n",
              "    20% {\n",
              "      border-color: transparent;\n",
              "      border-left-color: var(--fill-color);\n",
              "      border-top-color: var(--fill-color);\n",
              "    }\n",
              "    30% {\n",
              "      border-color: transparent;\n",
              "      border-left-color: var(--fill-color);\n",
              "      border-top-color: var(--fill-color);\n",
              "      border-right-color: var(--fill-color);\n",
              "    }\n",
              "    40% {\n",
              "      border-color: transparent;\n",
              "      border-right-color: var(--fill-color);\n",
              "      border-top-color: var(--fill-color);\n",
              "    }\n",
              "    60% {\n",
              "      border-color: transparent;\n",
              "      border-right-color: var(--fill-color);\n",
              "    }\n",
              "    80% {\n",
              "      border-color: transparent;\n",
              "      border-right-color: var(--fill-color);\n",
              "      border-bottom-color: var(--fill-color);\n",
              "    }\n",
              "    90% {\n",
              "      border-color: transparent;\n",
              "      border-bottom-color: var(--fill-color);\n",
              "    }\n",
              "  }\n",
              "</style>\n",
              "\n",
              "  <script>\n",
              "    async function quickchart(key) {\n",
              "      const quickchartButtonEl =\n",
              "        document.querySelector('#' + key + ' button');\n",
              "      quickchartButtonEl.disabled = true;  // To prevent multiple clicks.\n",
              "      quickchartButtonEl.classList.add('colab-df-spinner');\n",
              "      try {\n",
              "        const charts = await google.colab.kernel.invokeFunction(\n",
              "            'suggestCharts', [key], {});\n",
              "      } catch (error) {\n",
              "        console.error('Error during call to suggestCharts:', error);\n",
              "      }\n",
              "      quickchartButtonEl.classList.remove('colab-df-spinner');\n",
              "      quickchartButtonEl.classList.add('colab-df-quickchart-complete');\n",
              "    }\n",
              "    (() => {\n",
              "      let quickchartButtonEl =\n",
              "        document.querySelector('#df-410f0f75-873e-4c10-bf72-bf3c778c317f button');\n",
              "      quickchartButtonEl.style.display =\n",
              "        google.colab.kernel.accessAllowed ? 'block' : 'none';\n",
              "    })();\n",
              "  </script>\n",
              "</div>\n",
              "\n",
              "    </div>\n",
              "  </div>\n"
            ],
            "application/vnd.google.colaboratory.intrinsic+json": {
              "type": "dataframe",
              "summary": "{\n  \"name\": \"display(features_log_minmax_transform\",\n  \"rows\": 5,\n  \"fields\": [\n    {\n      \"column\": \"age\",\n      \"properties\": {\n        \"dtype\": \"number\",\n        \"std\": 0.13787383715162885,\n        \"min\": 0.1506849315068493,\n        \"max\": 0.4931506849315069,\n        \"num_unique_values\": 5,\n        \"samples\": [\n          0.4520547945205479,\n          0.1506849315068493,\n          0.2876712328767123\n        ],\n        \"semantic_type\": \"\",\n        \"description\": \"\"\n      }\n    },\n    {\n      \"column\": \"workclass\",\n      \"properties\": {\n        \"dtype\": \"string\",\n        \"num_unique_values\": 3,\n        \"samples\": [\n          \" State-gov\",\n          \" Self-emp-not-inc\",\n          \" Private\"\n        ],\n        \"semantic_type\": \"\",\n        \"description\": \"\"\n      }\n    },\n    {\n      \"column\": \"education_level\",\n      \"properties\": {\n        \"dtype\": \"string\",\n        \"num_unique_values\": 3,\n        \"samples\": [\n          \" Bachelors\",\n          \" HS-grad\",\n          \" 11th\"\n        ],\n        \"semantic_type\": \"\",\n        \"description\": \"\"\n      }\n    },\n    {\n      \"column\": \"education-num\",\n      \"properties\": {\n        \"dtype\": \"number\",\n        \"std\": 0.1885618083164127,\n        \"min\": 0.4,\n        \"max\": 0.8,\n        \"num_unique_values\": 3,\n        \"samples\": [\n          0.8,\n          0.5333333333333333,\n          0.4\n        ],\n        \"semantic_type\": \"\",\n        \"description\": \"\"\n      }\n    },\n    {\n      \"column\": \"marital-status\",\n      \"properties\": {\n        \"dtype\": \"string\",\n        \"num_unique_values\": 3,\n        \"samples\": [\n          \" Never-married\",\n          \" Married-civ-spouse\",\n          \" Divorced\"\n        ],\n        \"semantic_type\": \"\",\n        \"description\": \"\"\n      }\n    },\n    {\n      \"column\": \"occupation\",\n      \"properties\": {\n        \"dtype\": \"string\",\n        \"num_unique_values\": 4,\n        \"samples\": [\n          \" Exec-managerial\",\n          \" Prof-specialty\",\n          \" Adm-clerical\"\n        ],\n        \"semantic_type\": \"\",\n        \"description\": \"\"\n      }\n    },\n    {\n      \"column\": \"relationship\",\n      \"properties\": {\n        \"dtype\": \"string\",\n        \"num_unique_values\": 3,\n        \"samples\": [\n          \" Not-in-family\",\n          \" Husband\",\n          \" Wife\"\n        ],\n        \"semantic_type\": \"\",\n        \"description\": \"\"\n      }\n    },\n    {\n      \"column\": \"race\",\n      \"properties\": {\n        \"dtype\": \"category\",\n        \"num_unique_values\": 2,\n        \"samples\": [\n          \" Black\",\n          \" White\"\n        ],\n        \"semantic_type\": \"\",\n        \"description\": \"\"\n      }\n    },\n    {\n      \"column\": \"sex\",\n      \"properties\": {\n        \"dtype\": \"category\",\n        \"num_unique_values\": 2,\n        \"samples\": [\n          \" Female\",\n          \" Male\"\n        ],\n        \"semantic_type\": \"\",\n        \"description\": \"\"\n      }\n    },\n    {\n      \"column\": \"capital-gain\",\n      \"properties\": {\n        \"dtype\": \"number\",\n        \"std\": 0.2985114312152856,\n        \"min\": 0.0,\n        \"max\": 0.6674918522581312,\n        \"num_unique_values\": 2,\n        \"samples\": [\n          0.0,\n          0.6674918522581312\n        ],\n        \"semantic_type\": \"\",\n        \"description\": \"\"\n      }\n    },\n    {\n      \"column\": \"capital-loss\",\n      \"properties\": {\n        \"dtype\": \"number\",\n        \"std\": 0.0,\n        \"min\": 0.0,\n        \"max\": 0.0,\n        \"num_unique_values\": 1,\n        \"samples\": [\n          0.0\n        ],\n        \"semantic_type\": \"\",\n        \"description\": \"\"\n      }\n    },\n    {\n      \"column\": \"hours-per-week\",\n      \"properties\": {\n        \"dtype\": \"number\",\n        \"std\": 0.12321190896427413,\n        \"min\": 0.12244897959183672,\n        \"max\": 0.39795918367346933,\n        \"num_unique_values\": 2,\n        \"samples\": [\n          0.12244897959183672\n        ],\n        \"semantic_type\": \"\",\n        \"description\": \"\"\n      }\n    },\n    {\n      \"column\": \"native-country\",\n      \"properties\": {\n        \"dtype\": \"category\",\n        \"num_unique_values\": 2,\n        \"samples\": [\n          \" Cuba\"\n        ],\n        \"semantic_type\": \"\",\n        \"description\": \"\"\n      }\n    }\n  ]\n}"
            }
          },
          "metadata": {}
        }
      ],
      "source": [
        "# Import sklearn.preprocessing.StandardScaler\n",
        "from sklearn.preprocessing import MinMaxScaler\n",
        "\n",
        "# Initialize a scaler, then apply it to the features\n",
        "scaler = MinMaxScaler() # default=(0, 1)\n",
        "numerical = ['age', 'education-num', 'capital-gain', 'capital-loss', 'hours-per-week']\n",
        "\n",
        "features_log_minmax_transform = pd.DataFrame(data = features_log_transformed)\n",
        "features_log_minmax_transform[numerical] = scaler.fit_transform(features_log_transformed[numerical])\n",
        "\n",
        "# Show an example of a record with scaling applied\n",
        "display(features_log_minmax_transform.head(n = 5))"
      ]
    },
    {
      "cell_type": "markdown",
      "metadata": {
        "id": "yKJBSj_fm8EO"
      },
      "source": [
        "### Implementation: Data Preprocessing\n",
        "\n",
        "From the table in **Exploring the Data** above, we can see there are several features for each record that are non-numeric. Typically, learning algorithms expect input to be numeric, which requires that non-numeric features (called *categorical variables*) be converted. One popular way to convert categorical variables is by using the **one-hot encoding** scheme. One-hot encoding creates a _\"dummy\"_ variable for each possible category of each non-numeric feature. For example, assume `someFeature` has three possible entries: `A`, `B`, or `C`:\n",
        "\n",
        "|   | someFeature |                    \n",
        "| :-: | :-: |                            \n",
        "| 0 |  B  |  \n",
        "| 1 |  C  |\n",
        "| 2 |  A  |  \n",
        "\n",
        "We then encode this feature into `someFeature_A`, `someFeature_B` and `someFeature_C`:\n",
        "\n",
        "|| someFeature_A | someFeature_B | someFeature_C |\n",
        "| :-: | :-: | :-: | :-: |\n",
        "|0| 0 | 1 | 0 |\n",
        "|1| 0 | 0 | 1 |\n",
        "|2| 1 | 0 | 0 |\n",
        "\n",
        "Additionally, as with the non-numeric features, we need to convert the non-numeric target label, `income` to numerical values for the learning algorithm to work. Since there are only two possible categories for this label (\"<=50K\" and \">50K\"), we can avoid using one-hot encoding and simply encode these two categories as 0 and 1, respectively. In code cell below, you will need to implement the following:\n",
        " - Use [`pandas.get_dummies()`](http://pandas.pydata.org/pandas-docs/stable/generated/pandas.get_dummies.html?highlight=get_dummies#pandas.get_dummies) to perform one-hot encoding on the `features_log_minmax_transform` data.\n",
        " - Convert the target label `income_raw` to numerical entries.\n",
        "   - Set records with \"<=50K\" to 0 and records with \">50K\" to 1."
      ]
    },
    {
      "cell_type": "code",
      "execution_count": null,
      "metadata": {
        "collapsed": true,
        "scrolled": true,
        "colab": {
          "base_uri": "https://localhost:8080/"
        },
        "id": "LhCTAkmVm8EO",
        "outputId": "ea1cb9e0-2202-4a12-855a-16466b8b83f6"
      },
      "outputs": [
        {
          "output_type": "stream",
          "name": "stdout",
          "text": [
            "103 total features after one-hot encoding.\n",
            "['age', 'education-num', 'capital-gain', 'capital-loss', 'hours-per-week', 'workclass_ Federal-gov', 'workclass_ Local-gov', 'workclass_ Private', 'workclass_ Self-emp-inc', 'workclass_ Self-emp-not-inc', 'workclass_ State-gov', 'workclass_ Without-pay', 'education_level_ 10th', 'education_level_ 11th', 'education_level_ 12th', 'education_level_ 1st-4th', 'education_level_ 5th-6th', 'education_level_ 7th-8th', 'education_level_ 9th', 'education_level_ Assoc-acdm', 'education_level_ Assoc-voc', 'education_level_ Bachelors', 'education_level_ Doctorate', 'education_level_ HS-grad', 'education_level_ Masters', 'education_level_ Preschool', 'education_level_ Prof-school', 'education_level_ Some-college', 'marital-status_ Divorced', 'marital-status_ Married-AF-spouse', 'marital-status_ Married-civ-spouse', 'marital-status_ Married-spouse-absent', 'marital-status_ Never-married', 'marital-status_ Separated', 'marital-status_ Widowed', 'occupation_ Adm-clerical', 'occupation_ Armed-Forces', 'occupation_ Craft-repair', 'occupation_ Exec-managerial', 'occupation_ Farming-fishing', 'occupation_ Handlers-cleaners', 'occupation_ Machine-op-inspct', 'occupation_ Other-service', 'occupation_ Priv-house-serv', 'occupation_ Prof-specialty', 'occupation_ Protective-serv', 'occupation_ Sales', 'occupation_ Tech-support', 'occupation_ Transport-moving', 'relationship_ Husband', 'relationship_ Not-in-family', 'relationship_ Other-relative', 'relationship_ Own-child', 'relationship_ Unmarried', 'relationship_ Wife', 'race_ Amer-Indian-Eskimo', 'race_ Asian-Pac-Islander', 'race_ Black', 'race_ Other', 'race_ White', 'sex_ Female', 'sex_ Male', 'native-country_ Cambodia', 'native-country_ Canada', 'native-country_ China', 'native-country_ Columbia', 'native-country_ Cuba', 'native-country_ Dominican-Republic', 'native-country_ Ecuador', 'native-country_ El-Salvador', 'native-country_ England', 'native-country_ France', 'native-country_ Germany', 'native-country_ Greece', 'native-country_ Guatemala', 'native-country_ Haiti', 'native-country_ Holand-Netherlands', 'native-country_ Honduras', 'native-country_ Hong', 'native-country_ Hungary', 'native-country_ India', 'native-country_ Iran', 'native-country_ Ireland', 'native-country_ Italy', 'native-country_ Jamaica', 'native-country_ Japan', 'native-country_ Laos', 'native-country_ Mexico', 'native-country_ Nicaragua', 'native-country_ Outlying-US(Guam-USVI-etc)', 'native-country_ Peru', 'native-country_ Philippines', 'native-country_ Poland', 'native-country_ Portugal', 'native-country_ Puerto-Rico', 'native-country_ Scotland', 'native-country_ South', 'native-country_ Taiwan', 'native-country_ Thailand', 'native-country_ Trinadad&Tobago', 'native-country_ United-States', 'native-country_ Vietnam', 'native-country_ Yugoslavia']\n"
          ]
        }
      ],
      "source": [
        "# # TODO: One-hot encode the 'features_log_minmax_transform' data using pandas.get_dummies()\n",
        "# features_final = None\n",
        "\n",
        "# # TODO: Encode the 'income_raw' data to numerical values\n",
        "# income = None\n",
        "\n",
        "# # Print the number of features after one-hot encoding\n",
        "# encoded = list(features_final.columns)\n",
        "# print(\"{} total features after one-hot encoding.\".format(len(encoded)))\n",
        "\n",
        "# # Uncomment the following line to see the encoded feature names\n",
        "# # print(encoded)\n",
        "\n",
        "#_________________________________________________________________________________________________\n",
        "\n",
        "# TODO: One-hot encode the 'features_raw' data using pandas.get_dummies()\n",
        "features_final = pd.get_dummies(features_raw)\n",
        "\n",
        "# TODO: Encode the 'income_raw' data to numerical values\n",
        "income = income_raw.map({'>50K': 1, '<=50K': 0})\n",
        "\n",
        "# Print the number of features after one-hot encoding\n",
        "encoded = list(features_final.columns)\n",
        "print(\"{} total features after one-hot encoding.\".format(len(encoded)))\n",
        "\n",
        "# Uncomment the following line to see the encoded feature names\n",
        "print(encoded)\n"
      ]
    },
    {
      "cell_type": "markdown",
      "metadata": {
        "id": "nSd0NWgxm8EO"
      },
      "source": [
        "### Shuffle and Split Data\n",
        "Now all _categorical variables_ have been converted into numerical features, and all numerical features have been normalized. As always, we will now split the data (both features and their labels) into training and test sets. 80% of the data will be used for training and 20% for testing.\n",
        "\n",
        "Run the code cell below to perform this split."
      ]
    },
    {
      "cell_type": "code",
      "execution_count": null,
      "metadata": {
        "collapsed": true,
        "colab": {
          "base_uri": "https://localhost:8080/"
        },
        "id": "RooAMtycm8EO",
        "outputId": "6e504f5a-ffcd-4f99-e1f6-d8f398888df3"
      },
      "outputs": [
        {
          "output_type": "stream",
          "name": "stdout",
          "text": [
            "Training set has 36177 samples.\n",
            "Testing set has 9045 samples.\n"
          ]
        }
      ],
      "source": [
        "# Import train_test_split\n",
        "from sklearn.model_selection import train_test_split\n",
        "\n",
        "# Split the 'features' and 'income' data into training and testing sets\n",
        "X_train, X_test, y_train, y_test = train_test_split(features_final,\n",
        "                                                    income,\n",
        "                                                    test_size = 0.2,\n",
        "                                                    random_state = 0)\n",
        "\n",
        "# Show the results of the split\n",
        "print(\"Training set has {} samples.\".format(X_train.shape[0]))\n",
        "print(\"Testing set has {} samples.\".format(X_test.shape[0]))"
      ]
    },
    {
      "cell_type": "markdown",
      "metadata": {
        "id": "naZW_EF7m8EO"
      },
      "source": [
        "----\n",
        "## Evaluating Model Performance\n",
        "In this section, we will investigate four different algorithms, and determine which is best at modeling the data. Three of these algorithms will be supervised learners of your choice, and the fourth algorithm is known as a *naive predictor*."
      ]
    },
    {
      "cell_type": "markdown",
      "metadata": {
        "id": "inf6VF_um8EO"
      },
      "source": [
        "### Metrics and the Naive Predictor\n",
        "*CharityML*, equipped with their research, knows individuals that make more than $50,000 are most likely to donate to their charity. Because of this, *CharityML* is particularly interested in predicting who makes more than $50,000 accurately. It would seem that using **accuracy** as a metric for evaluating a particular model's performace would be appropriate. Additionally, identifying someone that *does not* make more than $50,000 as someone who does would be detrimental to *CharityML*, since they are looking to find individuals willing to donate. Therefore, a model's ability to precisely predict those that make more than $50,000 is *more important* than the model's ability to **recall** those individuals. We can use **F-beta score** as a metric that considers both precision and recall:\n",
        "\n",
        "$$ F_{\\beta} = (1 + \\beta^2) \\cdot \\frac{\\text{precision} \\cdot \\text{recall}}{\\left( \\beta^2 \\cdot \\text{precision} \\right) + \\text{recall}} $$\n",
        "\n",
        "In particular, when $\\beta = 0.5$, more emphasis is placed on precision. This is called the $F_{0.5}$ score (or F-score for simplicity).\n",
        "\n",
        "Looking at the distribution of classes (those who make at most $50,000, and those who make more), it's clear most individuals do not make more than $50,000. This can greatly affect **accuracy**, since we could simply say *\"this person does not make more than $50,000\"* and generally be right, without ever looking at the data! Making such a statement would be called **naive**, since we have not considered any information to substantiate the claim. It is always important to consider the *naive prediction* for your data, to help establish a benchmark for whether a model is performing well. That been said, using that prediction would be pointless: If we predicted all people made less than $50,000, *CharityML* would identify no one as donors.\n",
        "\n",
        "\n",
        "#### Note: Recap of accuracy, precision, recall\n",
        "\n",
        "**Accuracy** measures how often the classifier makes the correct prediction. It’s the ratio of the number of correct predictions to the total number of predictions (the number of test data points).\n",
        "\n",
        "**Precision** tells us what proportion of messages we classified as spam, actually were spam.\n",
        "It is a ratio of true positives (words classified as spam, and which are actually spam) to all positives (all words classified as spam, irrespective of whether that was the correct classificatio), in other words it is the ratio of\n",
        "\n",
        "$$\\text{Precision} = \\frac{\\text{True Positives}} {\\text{True Positives} + \\text{False Positives}}$$\n",
        "\n",
        "**Recall (sensitivity)** tells us what proportion of messages that actually were spam were classified by us as spam.\n",
        "It is a ratio of true positives (words classified as spam, and which are actually spam) to all the words that were actually spam, in other words it is the ratio of\n",
        "\n",
        "$$\\text{Recall} = \\frac{\\text{True Positives}} {\\text{True Positives} + \\text{False Negatives}}$$\n",
        "\n",
        "For classification problems that are skewed in their classification distributions, like in our case, for example, if we had 100 text messages and only 2 were spam and the remaining 98 weren't, accuracy is not a very good metric. We could classify 90 messages as not spam (including the 2 that were spam, but we classify them as not spam, hence they would be false negatives) and 10 as spam (all 10 false positives) and still get a reasonably good accuracy score. For such cases, precision and recall come in very handy. These two metrics can be combined to get the F1 score and the weighted average (harmonic mean) of the precision and recall scores. This score can range from 0 to 1, with 1 being the best possible F1 score(we take the harmonic mean when dealing with ratios)."
      ]
    },
    {
      "cell_type": "markdown",
      "metadata": {
        "id": "pBNhj2gem8EO"
      },
      "source": [
        "### Question 1 - Naive Predictor Performace\n",
        "* If we chose a model that always predicted an individual made more than $50,000, what would  that model's accuracy and F-score be on this dataset? You must use the code cell below and assign your results to `accuracy` and `fscore` to be used later.\n",
        "\n",
        "**Please note** that the the purpose of generating a naive predictor is simply to show what a base model without any intelligence would look like. In the real world, ideally your base model would be either the results of a previous model or could be based on a research paper upon which you are looking to improve. When there is no benchmark model set, getting a result better than random choice is a place you could start from.\n",
        "\n",
        "**HINT:**\n",
        "\n",
        "* When we have a model that always predicts 1 (i.e., the individual makes more than 50k) then our model will have no True Negatives (TN) or False Negatives (FN) as we are not making any negative (0 value) predictions. Therefore our Accuracy in this case becomes the same as our Precision (True Positives / (True Positives + False Positives)) as every prediction that we have made with value 1 that should have 0 becomes a False Positive; therefore our denominator in this case is the total number of records we have in total.\n",
        "* Our Recall score (True Positives / (True Positives + False Negatives)) in this setting becomes 1 as we have no False Negatives."
      ]
    },
    {
      "cell_type": "code",
      "execution_count": null,
      "metadata": {
        "collapsed": true,
        "colab": {
          "base_uri": "https://localhost:8080/"
        },
        "id": "-6GYlhPbm8EP",
        "outputId": "2ce9804e-ddba-4ed3-e3b7-b062cc6d3da6"
      },
      "outputs": [
        {
          "output_type": "stream",
          "name": "stdout",
          "text": [
            "Naive Predictor: [Accuracy score: 0.2478, F-score: 0.2917]\n"
          ]
        }
      ],
      "source": [
        "# TP = np.sum(income) # Counting the ones as this is the naive case. Note that 'income' is the 'income_raw' data encoded to numerical values done in the data preprocessing step.\n",
        "# FP = income.count() - TP # Specific to the naive case\n",
        "\n",
        "# TN = 0 # No predicted negatives in the naive case\n",
        "# FN = 0 # No predicted negatives in the naive case\n",
        "\n",
        "# # TODO: Calculate accuracy, precision and recall\n",
        "# accuracy = None\n",
        "# recall = None\n",
        "# precision = None\n",
        "\n",
        "# # TODO: Calculate F-score using the formula above for beta = 0.5 and correct values for precision and recall.\n",
        "# fscore = None\n",
        "\n",
        "# # Print the results\n",
        "# print(\"Naive Predictor: [Accuracy score: {:.4f}, F-score: {:.4f}]\".format(accuracy, fscore))\n",
        "\n",
        "#_________________________________________________________________________________________________\n",
        "# Count True Positives (TP)\n",
        "TP = np.sum(income)  # All positive cases because the naive predictor predicts everything as positive.\n",
        "FP = income.count() - TP  # False Positives (all negative cases wrongly predicted as positive)\n",
        "\n",
        "TN = 0\n",
        "FN = 0\n",
        "\n",
        "# TODO: Calculate accuracy, precision, and recall\n",
        "accuracy = TP / income.count()\n",
        "precision = TP / (TP + FP)\n",
        "recall = TP / (TP + FN)\n",
        "\n",
        "# TODO: Calculate F-score using the formula for beta = 0.5\n",
        "beta = 0.5\n",
        "fscore = (1 + beta**2) * (precision * recall) / ((beta**2 * precision) + recall)\n",
        "\n",
        "# Print the results\n",
        "print(\"Naive Predictor: [Accuracy score: {:.4f}, F-score: {:.4f}]\".format(accuracy, fscore))\n",
        "\n"
      ]
    },
    {
      "cell_type": "markdown",
      "metadata": {
        "id": "vVdxKBCTm8EP"
      },
      "source": [
        "###  Supervised Learning Models\n",
        "**The following are some of the supervised learning models that are currently available in** [scikit-learn](http://scikit-learn.org/stable/supervised_learning.html) **that you may choose from:**\n",
        "- Gaussian Naive Bayes (GaussianNB)\n",
        "- Decision Trees\n",
        "- Ensemble Methods (Bagging, AdaBoost, Random Forest, Gradient Boosting)\n",
        "- K-Nearest Neighbors (KNeighbors)\n",
        "- Stochastic Gradient Descent Classifier (SGDC)\n",
        "- Support Vector Machines (SVM)\n",
        "- Logistic Regression"
      ]
    },
    {
      "cell_type": "markdown",
      "metadata": {
        "id": "ZgNF6Vdbm8EP"
      },
      "source": [
        "### Question 2 - Model Application\n",
        "List three of the supervised learning models above that are appropriate for this problem that you will test on the census data. For each model chosen\n",
        "\n",
        "- Describe one real-world application in industry where the model can be applied.\n",
        "- What are the strengths of the model; when does it perform well?\n",
        "- What are the weaknesses of the model; when does it perform poorly?\n",
        "- What makes this model a good candidate for the problem, given what you know about the data?\n",
        "\n",
        "**HINT:**\n",
        "\n",
        "Structure your answer in the same format as above^, with 4 parts for each of the three models you pick. Please include references with your answer."
      ]
    },
    {
      "cell_type": "markdown",
      "metadata": {
        "id": "6lkFuYNgm8EP"
      },
      "source": [
        "**Answer:**"
      ]
    },
    {
      "cell_type": "markdown",
      "source": [
        "1. Decision Tree:\n",
        "    \n",
        "Real-World Application: Used in credit risk assessment to decide whether to approve or deny a loan based on an applicant's financial history.\n",
        "\n",
        "Strengths:\n",
        "Easy to interpret and visualize.\n",
        "Fast training speed, even on large datasets.\n",
        "Works with both numerical and categorical data.\n",
        "\n",
        "Weaknesses:\n",
        "Prone to overfitting, especially with deep trees.\n",
        "Sensitive to small variations in data, leading to instability.\n",
        "\n",
        "Why is it a good candidate?\n",
        "Since the census dataset consists of categorical and numerical data, decision trees can handle both types effectively.\n",
        "\n",
        "2. Random Forest:\n",
        "Real-World Application: Used in medical diagnostics to predict diseases based on patient symptoms and historical data.\n",
        "\n",
        "Strengths:\n",
        "Reduces overfitting by averaging multiple decision trees.\n",
        "Handles large datasets and missing values well.\n",
        "More accurate than a single decision tree.\n",
        "\n",
        "Weaknesses:\n",
        "Requires more computational resources than a single decision tree.\n",
        "Harder to interpret due to multiple trees.\n",
        "\n",
        "Why is it a good candidate?\n",
        "The dataset contains many features, so Random Forest’s ability to handle high-dimensional data makes it suitable.\n",
        "\n",
        "3. AdaBoost\n",
        "Real-World Application: Used in fraud detection systems to classify transactions as fraudulent or legitimate.\n",
        "\n",
        "Strengths:\n",
        "Focuses on misclassified samples, improving accuracy.\n",
        "Works well with weak learners (e.g., shallow decision trees).\n",
        "\n",
        "Weaknesses:\n",
        "Sensitive to noisy data and outliers.\n",
        "Slower than simpler models like logistic regression.\n",
        "\n",
        "Why is it a good candidate?\n",
        "Since income classification has imbalanced classes (more people earning ≤$50K), AdaBoost’s ability to focus on difficult cases helps improve predictions.\n"
      ],
      "metadata": {
        "id": "eJp4o5AJe_6Y"
      }
    },
    {
      "cell_type": "markdown",
      "metadata": {
        "id": "CReRDm1Lm8EP"
      },
      "source": [
        "### Implementation - Creating a Training and Predicting Pipeline\n",
        "To properly evaluate the performance of each model you've chosen, it's important that you create a training and predicting pipeline that allows you to quickly and effectively train models using various sizes of training data and perform predictions on the testing data. Your implementation here will be used in the following section.\n",
        "In the code block below, you will need to implement the following:\n",
        " - Import `fbeta_score` and `accuracy_score` from [`sklearn.metrics`](http://scikit-learn.org/stable/modules/classes.html#sklearn-metrics-metrics).\n",
        " - Fit the learner to the sampled training data and record the training time.\n",
        " - Perform predictions on the test data `X_test`, and also on the first 300 training points `X_train[:300]`.\n",
        "   - Record the total prediction time.\n",
        " - Calculate the accuracy score for both the training subset and testing set.\n",
        " - Calculate the F-score for both the training subset and testing set.\n",
        "   - Make sure that you set the `beta` parameter!"
      ]
    },
    {
      "cell_type": "code",
      "execution_count": null,
      "metadata": {
        "collapsed": true,
        "colab": {
          "base_uri": "https://localhost:8080/"
        },
        "id": "7UA0bJ5xm8EP",
        "outputId": "433636c9-1c4d-4d7b-fbfc-170d847dbe07"
      },
      "outputs": [
        {
          "output_type": "stream",
          "name": "stdout",
          "text": [
            "DecisionTreeClassifier trained on 1000 samples.\n",
            "Results: {'train_time': 0.01407170295715332, 'pred_time': 0.007726907730102539, 'acc_train': 1.0, 'acc_test': 0.7774461028192371, 'f_train': 1.0, 'f_test': 0.5454142667257421}\n",
            "RandomForestClassifier trained on 1000 samples.\n",
            "Results: {'train_time': 0.3508899211883545, 'pred_time': 0.15301299095153809, 'acc_train': 1.0, 'acc_test': 0.8250967385295743, 'f_train': 1.0, 'f_test': 0.645777829259817}\n",
            "SVC trained on 1000 samples.\n",
            "Results: {'train_time': 0.05693173408508301, 'pred_time': 0.8037824630737305, 'acc_train': 0.7966666666666666, 'acc_test': 0.7966832504145936, 'f_train': 0.5, 'f_test': 0.5400696864111498}\n"
          ]
        }
      ],
      "source": [
        "# # TODO: Import two metrics from sklearn - fbeta_score and accuracy_score\n",
        "\n",
        "# def train_predict(learner, sample_size, X_train, y_train, X_test, y_test):\n",
        "#     '''\n",
        "#     inputs:\n",
        "#        - learner: the learning algorithm to be trained and predicted on\n",
        "#        - sample_size: the size of samples (number) to be drawn from training set\n",
        "#        - X_train: features training set\n",
        "#        - y_train: income training set\n",
        "#        - X_test: features testing set\n",
        "#        - y_test: income testing set\n",
        "#     '''\n",
        "\n",
        "#     results = {}\n",
        "\n",
        "#     # TODO: Fit the learner to the training data using slicing with 'sample_size' using .fit(training_features[:], training_labels[:])\n",
        "#     start = time() # Get start time\n",
        "#     learner = None\n",
        "#     end = time() # Get end time\n",
        "\n",
        "#     # TODO: Calculate the training time\n",
        "#     results['train_time'] = None\n",
        "\n",
        "#     # TODO: Get the predictions on the test set(X_test),\n",
        "#     #       then get predictions on the first 300 training samples(X_train) using .predict()\n",
        "#     start = time() # Get start time\n",
        "#     predictions_test = None\n",
        "#     predictions_train = None\n",
        "#     end = time() # Get end time\n",
        "\n",
        "#     # TODO: Calculate the total prediction time\n",
        "#     results['pred_time'] = None\n",
        "\n",
        "#     # TODO: Compute accuracy on the first 300 training samples which is y_train[:300]\n",
        "#     results['acc_train'] = None\n",
        "\n",
        "#     # TODO: Compute accuracy on test set using accuracy_score()\n",
        "#     results['acc_test'] = None\n",
        "\n",
        "#     # TODO: Compute F-score on the the first 300 training samples using fbeta_score()\n",
        "#     results['f_train'] = None\n",
        "\n",
        "#     # TODO: Compute F-score on the test set which is y_test\n",
        "#     results['f_test'] = None\n",
        "\n",
        "#     # Success\n",
        "#     print(\"{} trained on {} samples.\".format(learner.__class__.__name__, sample_size))\n",
        "\n",
        "#     # Return the results\n",
        "#     return results\n",
        "\n",
        "#______________________________________________________________________________________________\n",
        "from time import time\n",
        "from sklearn.metrics import fbeta_score, accuracy_score\n",
        "\n",
        "def train_predict(learner, sample_size, X_train, y_train, X_test, y_test):\n",
        "    \"\"\"\n",
        "    Parameters:\n",
        "    - learner: The learning algorithm to be trained and tested.\n",
        "    - sample_size: The number of samples to be used for training.\n",
        "    - X_train: Feature set for training.\n",
        "    - y_train: Target labels for training.\n",
        "    - X_test: Feature set for testing.\n",
        "    - y_test: Target labels for testing.\n",
        "\n",
        "    Returns:\n",
        "    - results: Dictionary .\n",
        "    \"\"\"\n",
        "\n",
        "    results = {}\n",
        "\n",
        "    # Train the model on a subset of the data\n",
        "    start = time()\n",
        "    learner.fit(X_train[:sample_size], y_train[:sample_size])\n",
        "    end = time()\n",
        "\n",
        "    # Compute training time\n",
        "    results['train_time'] = end - start\n",
        "\n",
        "    # Make predictions on both the test set and the first 300 training samples\n",
        "    start = time()\n",
        "    predictions_test = learner.predict(X_test)\n",
        "    predictions_train = learner.predict(X_train[:300])\n",
        "    end = time()\n",
        "\n",
        "    # Compute prediction time\n",
        "    results['pred_time'] = end - start\n",
        "\n",
        "    # Compute accuracy and F-score\n",
        "    results['acc_train'] = accuracy_score(y_train[:300], predictions_train)\n",
        "    results['acc_test'] = accuracy_score(y_test, predictions_test)\n",
        "    results['f_train'] = fbeta_score(y_train[:300], predictions_train, beta=0.5)\n",
        "    results['f_test'] = fbeta_score(y_test, predictions_test, beta=0.5)\n",
        "\n",
        "\n",
        "    print(f\"{learner.__class__.__name__} trained on {sample_size} samples.\")\n",
        "    print(\"Results:\", results)\n",
        "\n",
        "    return results\n",
        "\n",
        "# model 1: DecisionTreeClassifier\n",
        "from sklearn.tree import DecisionTreeClassifier\n",
        "\n",
        "model = DecisionTreeClassifier()\n",
        "results = train_predict(model, 1000, X_train, y_train, X_test, y_test)\n",
        "\n",
        "# model 2: Random Forest\n",
        "from sklearn.ensemble import RandomForestClassifier\n",
        "\n",
        "model = RandomForestClassifier(random_state=42)\n",
        "results = train_predict(model, 1000, X_train, y_train, X_test, y_test)\n",
        "\n",
        "# model 3: SVM\n",
        "from sklearn.svm import SVC\n",
        "\n",
        "model = SVC(kernel='rbf', random_state=42)\n",
        "results = train_predict(model, 1000, X_train, y_train, X_test, y_test)\n",
        "\n"
      ]
    },
    {
      "cell_type": "markdown",
      "source": [
        "***The Decision Tree Classifier is a quick and easy to understand model, but it has a tendency to overfit, resulting in lower generalization. Random Forest outperforms Decision Trees by averaging many trees, decreasing overfitting, and earning the highest accuracy (82.5%) and F-score (0.646) in our tests. However, it demands more training time. The Support Vector Machine (SVM) works well on high-dimensional data and generalizes successfully, but its prediction time is substantially slower (0.80s), making it unsuitable for huge datasets such as census categorization. Overall, Random Forest is the greatest option for balancing accuracy, generalizability, and efficiency.***"
      ],
      "metadata": {
        "id": "EDij7-uExfvy"
      }
    },
    {
      "cell_type": "markdown",
      "metadata": {
        "id": "Z-Y1PRaKm8EP"
      },
      "source": [
        "### Implementation: Initial Model Evaluation\n",
        "In the code cell, you will need to implement the following:\n",
        "- Import the three supervised learning models you've discussed in the previous section.\n",
        "- Initialize the three models and store them in `clf_A`, `clf_B`, and `clf_C`.\n",
        "  - Use a `random_state` for each model you use, if provided.\n",
        "  - **Note:** Use the default settings for each model — you will tune one specific model in a later section.\n",
        "- Calculate the number of records equal to 1%, 10%, and 100% of the training data.\n",
        "  - Store those values in `samples_1`, `samples_10`, and `samples_100` respectively.\n",
        "\n",
        "**Note:** Depending on which algorithms you chose, the following implementation may take some time to run!"
      ]
    },
    {
      "cell_type": "code",
      "execution_count": null,
      "metadata": {
        "collapsed": true,
        "colab": {
          "base_uri": "https://localhost:8080/",
          "height": 970
        },
        "id": "q98hjodHm8EP",
        "outputId": "04a7d275-401b-49d8-f606-36d75430c5f4"
      },
      "outputs": [
        {
          "output_type": "stream",
          "name": "stdout",
          "text": [
            "DecisionTreeClassifier trained on 361 samples.\n",
            "Results: {'train_time': 0.009164810180664062, 'pred_time': 0.007445573806762695, 'acc_train': 1.0, 'acc_test': 0.755444997236042, 'f_train': 1.0, 'f_test': 0.5098589225311443}\n",
            "DecisionTreeClassifier trained on 3617 samples.\n",
            "Results: {'train_time': 0.030002355575561523, 'pred_time': 0.00774383544921875, 'acc_train': 0.9966666666666667, 'acc_test': 0.802653399668325, 'f_train': 0.9971910112359551, 'f_test': 0.5963102212118563}\n",
            "DecisionTreeClassifier trained on 36177 samples.\n",
            "Results: {'train_time': 0.4132399559020996, 'pred_time': 0.01195216178894043, 'acc_train': 0.97, 'acc_test': 0.8189054726368159, 'f_train': 0.963855421686747, 'f_test': 0.6286427976686095}\n",
            "RandomForestClassifier trained on 361 samples.\n",
            "Results: {'train_time': 0.17458415031433105, 'pred_time': 0.10018515586853027, 'acc_train': 1.0, 'acc_test': 0.8164731896075179, 'f_train': 1.0, 'f_test': 0.6233236777169832}\n",
            "RandomForestClassifier trained on 3617 samples.\n",
            "Results: {'train_time': 0.5329289436340332, 'pred_time': 0.15966534614562988, 'acc_train': 0.9966666666666667, 'acc_test': 0.8357103372028745, 'f_train': 0.9971910112359551, 'f_test': 0.6690844108062651}\n",
            "RandomForestClassifier trained on 36177 samples.\n",
            "Results: {'train_time': 6.988882541656494, 'pred_time': 0.2932624816894531, 'acc_train': 0.9766666666666667, 'acc_test': 0.8431177446102819, 'f_train': 0.9705882352941176, 'f_test': 0.6830087970742315}\n",
            "SVC trained on 361 samples.\n",
            "Results: {'train_time': 0.00837254524230957, 'pred_time': 0.17064309120178223, 'acc_train': 0.8, 'acc_test': 0.7986733001658375, 'f_train': 0.5208333333333334, 'f_test': 0.550613769791852}\n",
            "SVC trained on 3617 samples.\n",
            "Results: {'train_time': 0.45763301849365234, 'pred_time': 1.6205673217773438, 'acc_train': 0.7966666666666666, 'acc_test': 0.7978993919292426, 'f_train': 0.47413793103448276, 'f_test': 0.5276101050748938}\n",
            "SVC trained on 36177 samples.\n",
            "Results: {'train_time': 90.68494892120361, 'pred_time': 19.03799867630005, 'acc_train': 0.7966666666666666, 'acc_test': 0.7966832504145936, 'f_train': 0.5, 'f_test': 0.5400696864111498}\n"
          ]
        },
        {
          "output_type": "stream",
          "name": "stderr",
          "text": [
            "/content/visuals.py:122: UserWarning: Tight layout not applied. tight_layout cannot make Axes width small enough to accommodate all Axes decorations\n",
            "  pl.tight_layout()\n"
          ]
        },
        {
          "output_type": "display_data",
          "data": {
            "text/plain": [
              "<Figure size 1100x800 with 6 Axes>"
            ],
            "image/png": "[encoded data removed]"
          },
          "metadata": {}
        }
      ],
      "source": [
        "# # TODO: Import the three supervised learning models from sklearn\n",
        "\n",
        "# # TODO: Initialize the three models\n",
        "# clf_A = None\n",
        "# clf_B = None\n",
        "# clf_C = None\n",
        "\n",
        "# # TODO: Calculate the number of samples for 1%, 10%, and 100% of the training data\n",
        "# # HINT: samples_100 is the entire training set i.e. len(y_train)\n",
        "# # HINT: samples_10 is 10% of samples_100 (ensure to set the count of the values to be `int` and not `float`)\n",
        "# # HINT: samples_1 is 1% of samples_100 (ensure to set the count of the values to be `int` and not `float`)\n",
        "# samples_100 = None\n",
        "# samples_10 = None\n",
        "# samples_1 = None\n",
        "\n",
        "# # Collect results on the learners\n",
        "# results = {}\n",
        "# for clf in [clf_A, clf_B, clf_C]:\n",
        "#     clf_name = clf.__class__.__name__\n",
        "#     results[clf_name] = {}\n",
        "#     for i, samples in enumerate([samples_1, samples_10, samples_100]):\n",
        "#         results[clf_name][i] = \\\n",
        "#         train_predict(clf, samples, X_train, y_train, X_test, y_test)\n",
        "\n",
        "# # Run metrics visualization for the three supervised learning models chosen\n",
        "# vs.evaluate(results, accuracy, fscore)\n",
        "\n",
        "\n",
        "#__________________________________________________________________________________________________________\n",
        "# TODO: Import the three supervised learning models from sklearn\n",
        "from sklearn.tree import DecisionTreeClassifier\n",
        "from sklearn.ensemble import RandomForestClassifier\n",
        "from sklearn.svm import SVC\n",
        "\n",
        "# TODO: Initialize the three models (with a set random_state for reproducibility)\n",
        "clf_A = DecisionTreeClassifier(random_state=42)\n",
        "clf_B = RandomForestClassifier(random_state=42)\n",
        "clf_C = SVC(random_state=42)\n",
        "\n",
        "# TODO: Calculate the number of samples for 1%, 10%, and 100% of the training data\n",
        "samples_100 = len(y_train)\n",
        "samples_10 = int(0.1 * samples_100)\n",
        "samples_1 = int(0.01 * samples_100)\n",
        "\n",
        "# Collect results on the learners\n",
        "results = {}\n",
        "for clf in [clf_A, clf_B, clf_C]:\n",
        "    clf_name = clf.__class__.__name__\n",
        "    results[clf_name] = {}\n",
        "    for i, samples in enumerate([samples_1, samples_10, samples_100]):\n",
        "        results[clf_name][i] = train_predict(clf, samples, X_train, y_train, X_test, y_test)\n",
        "\n",
        "# Run metrics visualization for the three supervised learning models chosen\n",
        "vs.evaluate(results, accuracy, fscore)\n",
        "\n"
      ]
    },
    {
      "cell_type": "markdown",
      "metadata": {
        "id": "YsZiSmmrm8EP"
      },
      "source": [
        "----\n",
        "## Improving Results\n",
        "In this final section, you will choose from the three supervised learning models the *best* model to use on the student data. You will then perform a grid search optimization for the model over the entire training set (`X_train` and `y_train`) by tuning at least one parameter to improve upon the untuned model's F-score."
      ]
    },
    {
      "cell_type": "markdown",
      "metadata": {
        "id": "8PTrDNICm8EP"
      },
      "source": [
        "### Question 3 - Choosing the Best Model\n",
        "\n",
        "* Based on the evaluation you performed earlier, in one to two paragraphs, explain to *CharityML* which of the three models you believe to be most appropriate for the task of identifying individuals that make more than $50,000.\n",
        "\n",
        "**HINT:**\n",
        "Look at the graph at the bottom left from the cell above(the visualization created by `vs.evaluate(results, accuracy, fscore)`) and check the F score for the testing set when 100% of the training set is used. Which model has the highest score? Your answer should include discussion of the:\n",
        "* metrics - F score on the testing when 100% of the training data is used,\n",
        "* prediction/training time\n",
        "* the algorithm's suitability for the data."
      ]
    },
    {
      "cell_type": "markdown",
      "metadata": {
        "id": "IXveJSlDm8EQ"
      },
      "source": [
        "**Answer:**"
      ]
    },
    {
      "cell_type": "markdown",
      "source": [
        "***The RandomForestClassifier is the optimal choice for CharityML since it achieved the highest F-score (0.683) and accuracy (0.843) on the testing set, demonstrating strong generalization. While DecisionTreeClassifier learned faster, it lacked robustness, and SVC, while accurate, had long training (90s) and prediction times (19s), making it unsuitable for large datasets. Random Forest achieves the best blend of accuracy, efficiency, and predictive performance, making it the ideal model for detecting high-income individuals.***"
      ],
      "metadata": {
        "id": "Z3ZQSY6d06HG"
      }
    },
    {
      "cell_type": "markdown",
      "metadata": {
        "id": "etAIqcD8m8EQ"
      },
      "source": [
        "### Question 4 - Describing the Model in Layman's Terms\n",
        "\n",
        "* In one to two paragraphs, explain to *CharityML*, in layman's terms, how the final model chosen is supposed to work. Be sure that you are describing the major qualities of the model, such as how the model is trained and how the model makes a prediction. Avoid using advanced mathematical jargon, such as describing equations.\n",
        "\n",
        "**HINT:**\n",
        "\n",
        "When explaining your model, if using external resources please include all citations."
      ]
    },
    {
      "cell_type": "markdown",
      "metadata": {
        "id": "f1k02DW8m8EQ"
      },
      "source": [
        "**Answer:**"
      ]
    },
    {
      "cell_type": "markdown",
      "source": [
        "***The Random Forest Classifier functions as a group of decision-makers collaborating to produce the optimal decision. It trains by learning from previous data, with numerous decision trees analyzing factors such as age, education, and job type to determine whether someone makes more than $50,000. When making a forecast, each tree provides an answer, and the model uses the majority vote, resulting in more accurate and dependable outcomes. This strategy reduces errors and guarantees that the model does not overfocus on certain details, making it an excellent choice for detecting high-income individuals.***"
      ],
      "metadata": {
        "id": "MBSerLoz1To6"
      }
    },
    {
      "cell_type": "markdown",
      "metadata": {
        "id": "Q6AKs2Uom8EQ"
      },
      "source": [
        "### Implementation: Model Tuning\n",
        "Fine tune the chosen model. Use grid search (`GridSearchCV`) with at least one important parameter tuned with at least 3 different values. You will need to use the entire training set for this. In the code cell below, you will need to implement the following:\n",
        "- Import [`sklearn.grid_search.GridSearchCV`](http://scikit-learn.org/0.17/modules/generated/sklearn.grid_search.GridSearchCV.html) and [`sklearn.metrics.make_scorer`](http://scikit-learn.org/stable/modules/generated/sklearn.metrics.make_scorer.html).\n",
        "- Initialize the classifier you've chosen and store it in `clf`.\n",
        " - Set a `random_state` if one is available to the same state you set before.\n",
        "- Create a dictionary of parameters you wish to tune for the chosen model.\n",
        " - Example: `parameters = {'parameter' : [list of values]}`.\n",
        " - **Note:** Avoid tuning the `max_features` parameter of your learner if that parameter is available!\n",
        "- Use `make_scorer` to create an `fbeta_score` scoring object (with $\\beta = 0.5$).\n",
        "- Perform grid search on the classifier `clf` using the `scorer`, and store it in `grid_obj`.\n",
        "- Fit the grid search object to the training data (`X_train`, `y_train`), and store it in `grid_fit`.\n",
        "\n",
        "**Note:** Depending on the algorithm chosen and the parameter list, the following implementation may take some time to run!"
      ]
    },
    {
      "cell_type": "code",
      "execution_count": null,
      "metadata": {
        "collapsed": true,
        "colab": {
          "base_uri": "https://localhost:8080/"
        },
        "id": "DBEhX5VFm8EQ",
        "outputId": "8b203b2d-2100-4cee-dd28-c0e32a1ade77"
      },
      "outputs": [
        {
          "output_type": "stream",
          "name": "stdout",
          "text": [
            "\n",
            "Best Parameters Found: {'max_depth': 20, 'min_samples_split': 5, 'n_estimators': 200}\n",
            "\n",
            "Unoptimized Model\n",
            "------\n",
            "Accuracy score on testing data: 0.8431\n",
            "F-score on testing data: 0.6830\n",
            "\n",
            "Optimized Model\n",
            "------\n",
            "Final accuracy score on the testing data: 0.8588\n",
            "Final F-score on the testing data: 0.7300\n"
          ]
        }
      ],
      "source": [
        "# # TODO: Import 'GridSearchCV', 'make_scorer', and any other necessary libraries\n",
        "\n",
        "# # TODO: Initialize the classifier\n",
        "# clf = None\n",
        "\n",
        "# # TODO: Create the parameters list you wish to tune, using a dictionary if needed.\n",
        "# # HINT: parameters = {'parameter_1': [value1, value2], 'parameter_2': [value1, value2]}\n",
        "# parameters = None\n",
        "\n",
        "# # TODO: Make an fbeta_score scoring object using make_scorer()\n",
        "# scorer = None\n",
        "\n",
        "# # TODO: Perform grid search on the classifier using 'scorer' as the scoring method using GridSearchCV()\n",
        "# grid_obj = None\n",
        "\n",
        "# # TODO: Fit the grid search object to the training data and find the optimal parameters using fit()\n",
        "# grid_fit = None\n",
        "\n",
        "# # Get the estimator\n",
        "# best_clf = grid_fit.best_estimator_\n",
        "\n",
        "# # Make predictions using the unoptimized and model\n",
        "# predictions = (clf.fit(X_train, y_train)).predict(X_test)\n",
        "# best_predictions = best_clf.predict(X_test)\n",
        "\n",
        "# # Report the before-and-afterscores\n",
        "# print(\"Unoptimized model\\n------\")\n",
        "# print(\"Accuracy score on testing data: {:.4f}\".format(accuracy_score(y_test, predictions)))\n",
        "# print(\"F-score on testing data: {:.4f}\".format(fbeta_score(y_test, predictions, beta = 0.5)))\n",
        "# print(\"\\nOptimized Model\\n------\")\n",
        "# print(\"Final accuracy score on the testing data: {:.4f}\".format(accuracy_score(y_test, best_predictions)))\n",
        "# print(\"Final F-score on the testing data: {:.4f}\".format(fbeta_score(y_test, best_predictions, beta = 0.5)))\n",
        "\n",
        "#___________________________________________________________________________________\n",
        "\n",
        "# TODO: Import necessary libraries\n",
        "from sklearn.model_selection import GridSearchCV\n",
        "from sklearn.metrics import make_scorer, fbeta_score, accuracy_score\n",
        "from sklearn.ensemble import RandomForestClassifier\n",
        "\n",
        "# TODO: Initialize the classifier (assuming RandomForestClassifier was chosen)\n",
        "clf = RandomForestClassifier(random_state=42)\n",
        "\n",
        "# TODO: Create the parameters list you wish to tune\n",
        "parameters = {\n",
        "    'n_estimators': [50, 100, 200],  # Number of trees in the forest\n",
        "    'max_depth': [10, 20, None],  # Maximum depth of the trees\n",
        "    'min_samples_split': [2, 5, 10],  # Minimum samples required to split an internal node\n",
        "}\n",
        "\n",
        "# TODO: Make an fbeta_score scoring object using make_scorer()\n",
        "scorer = make_scorer(fbeta_score, beta=0.5)\n",
        "\n",
        "# TODO: Perform grid search on the classifier using 'scorer' as the scoring method using GridSearchCV()\n",
        "grid_obj = GridSearchCV(clf, parameters, scoring=scorer, cv=5, n_jobs=-1)\n",
        "\n",
        "# TODO: Fit the grid search object to the training data and find the optimal parameters using fit()\n",
        "grid_fit = grid_obj.fit(X_train, y_train)\n",
        "\n",
        "# Get the best estimator\n",
        "best_clf = grid_fit.best_estimator_\n",
        "\n",
        "# Print best parameters found\n",
        "print(\"\\nBest Parameters Found:\", grid_fit.best_params_)\n",
        "\n",
        "# Make predictions using the unoptimized model\n",
        "clf.fit(X_train, y_train)\n",
        "predictions = clf.predict(X_test)\n",
        "\n",
        "# Make predictions using the optimized model\n",
        "best_predictions = best_clf.predict(X_test)\n",
        "\n",
        "# Report the before-and-after scores\n",
        "print(\"\\nUnoptimized Model\\n------\")\n",
        "print(f\"Accuracy score on testing data: {accuracy_score(y_test, predictions):.4f}\")\n",
        "print(f\"F-score on testing data: {fbeta_score(y_test, predictions, beta=0.5):.4f}\")\n",
        "\n",
        "print(\"\\nOptimized Model\\n------\")\n",
        "print(f\"Final accuracy score on the testing data: {accuracy_score(y_test, best_predictions):.4f}\")\n",
        "print(f\"Final F-score on the testing data: {fbeta_score(y_test, best_predictions, beta=0.5):.4f}\")\n"
      ]
    },
    {
      "cell_type": "markdown",
      "metadata": {
        "id": "vHNCU-i_m8EQ"
      },
      "source": [
        "### Question 5 - Final Model Evaluation\n",
        "\n",
        "* What is your optimized model's accuracy and F-score on the testing data?\n",
        "* Are these scores better or worse than the unoptimized model?\n",
        "* How do the results from your optimized model compare to the naive predictor benchmarks you found earlier in **Question 1**?  \n",
        "\n",
        "**Note:** Fill in the table below with your results, and then provide discussion in the **Answer** box."
      ]
    },
    {
      "cell_type": "markdown",
      "metadata": {
        "id": "LDn5eQpIm8EQ"
      },
      "source": [
        "#### Results:\n",
        "\n",
        "|     Metric     | Unoptimized Model | Optimized Model |\n",
        "| :------------: | :---------------: | :-------------: |\n",
        "| Accuracy Score |                   |                 |\n",
        "| F-score        |                   |   EXAMPLE       |\n"
      ]
    },
    {
      "cell_type": "markdown",
      "metadata": {
        "id": "865OPSjdm8EY"
      },
      "source": [
        "**Answer:**"
      ]
    },
    {
      "cell_type": "markdown",
      "source": [
        "#### Results:\n",
        "\n",
        "|     Metric     | Unoptimized Model | Optimized Model |\n",
        "| :------------: | :---------------: | :-------------: |\n",
        "| Accuracy Score |0.8431           |0.8588      |\n",
        "| F-score        |0.6830        | 0.7300     |\n"
      ],
      "metadata": {
        "id": "hP5NzQV_4y4_"
      }
    },
    {
      "cell_type": "markdown",
      "source": [
        "***The optimized model outperformed the unoptimized version in terms of accuracy (0.8588) and F-score (0.7300), demonstrating the benefits of hyperparameter adjustment. It also greatly outperforms the naive predictor benchmark, demonstrating its ability to detect high-income individuals.***"
      ],
      "metadata": {
        "id": "T4GIAfvK6AX2"
      }
    },
    {
      "cell_type": "markdown",
      "metadata": {
        "id": "_4GE0xJbm8EY"
      },
      "source": [
        "----\n",
        "## Feature Importance\n",
        "\n",
        "An important task when performing supervised learning on a dataset like the census data we study here is determining which features provide the most predictive power. By focusing on the relationship between only a few crucial features and the target label we simplify our understanding of the phenomenon, which is most always a useful thing to do. In the case of this project, that means we wish to identify a small number of features that most strongly predict whether an individual makes at most or more than $50,000.\n",
        "\n",
        "Choose a scikit-learn classifier (e.g., adaboost, random forests) that has a `feature_importance_` attribute, which is a function that ranks the importance of features according to the chosen classifier.  In the next python cell fit this classifier to training set and use this attribute to determine the top 5 most important features for the census dataset."
      ]
    },
    {
      "cell_type": "markdown",
      "metadata": {
        "id": "P7PO8P4Mm8EY"
      },
      "source": [
        "### Question 6 - Feature Relevance Observation\n",
        "When **Exploring the Data**, it was shown there are thirteen available features for each individual on record in the census data. Of these thirteen records, which five features do you believe to be most important for prediction, and in what order would you rank them and why?"
      ]
    },
    {
      "cell_type": "markdown",
      "metadata": {
        "id": "Hu7yWsNOm8EY"
      },
      "source": [
        "**Answer:**"
      ]
    },
    {
      "cell_type": "markdown",
      "source": [
        "***The five most important predictors of income are education level, occupation, capital gain, weekly hours worked, and age. better education and specific jobs often result in better pay, whereas capital gains indicate increased wealth. Working longer hours frequently results in higher earnings, while age represents experience, which can influence income. These elements have a significant impact on an individual's earnings potential.***"
      ],
      "metadata": {
        "id": "8IBFzwTu6Pcs"
      }
    },
    {
      "cell_type": "markdown",
      "metadata": {
        "id": "hY9-oggnm8EY"
      },
      "source": [
        "### Implementation - Extracting Feature Importance\n",
        "Choose a `scikit-learn` supervised learning algorithm that has a `feature_importance_` attribute availble for it. This attribute is a function that ranks the importance of each feature when making predictions based on the chosen algorithm.\n",
        "\n",
        "In the code cell below, you will need to implement the following:\n",
        " - Import a supervised learning model from sklearn if it is different from the three used earlier.\n",
        " - Train the supervised model on the entire training set.\n",
        " - Extract the feature importances using `.feature_importances_`."
      ]
    },
    {
      "cell_type": "code",
      "execution_count": null,
      "metadata": {
        "collapsed": true,
        "colab": {
          "base_uri": "https://localhost:8080/",
          "height": 498
        },
        "id": "W18zWzKpm8EY",
        "outputId": "5a5d6d6c-91b7-4971-87a3-412b3383e9bb"
      },
      "outputs": [
        {
          "output_type": "display_data",
          "data": {
            "text/plain": [
              "<Figure size 900x500 with 1 Axes>"
            ],
            "image/png": "[encoded data removed]"
          },
          "metadata": {}
        }
      ],
      "source": [
        "# # TODO: Import a supervised learning model that has 'feature_importances_'\n",
        "\n",
        "\n",
        "# # TODO: Train the supervised model on the training set using .fit(X_train, y_train)\n",
        "# model = None\n",
        "\n",
        "# # TODO: Extract the feature importances using .feature_importances_\n",
        "# importances = None\n",
        "\n",
        "# # Plot\n",
        "# vs.feature_plot(importances, X_train, y_train)\n",
        "\n",
        "\n",
        "#__________________________________________________________________________________________\n",
        "\n",
        "\n",
        "# TODO: Import a supervised learning model that has 'feature_importances_'\n",
        "from sklearn.ensemble import RandomForestClassifier\n",
        "\n",
        "# TODO: Train the supervised model on the training set using .fit(X_train, y_train)\n",
        "model = RandomForestClassifier(random_state=42)\n",
        "model.fit(X_train, y_train)\n",
        "\n",
        "# TODO: Extract the feature importances using .feature_importances_\n",
        "importances = model.feature_importances_\n",
        "\n",
        "# Plot\n",
        "vs.feature_plot(importances, X_train, y_train)\n"
      ]
    },
    {
      "cell_type": "markdown",
      "metadata": {
        "id": "u_BWFRqnm8EY"
      },
      "source": [
        "### Question 7 - Extracting Feature Importance\n",
        "\n",
        "Observe the visualization created above which displays the five most relevant features for predicting if an individual makes at most or above $50,000.  \n",
        "* How do these five features compare to the five features you discussed in **Question 6**?\n",
        "* If you were close to the same answer, how does this visualization confirm your thoughts?\n",
        "* If you were not close, why do you think these features are more relevant?"
      ]
    },
    {
      "cell_type": "markdown",
      "metadata": {
        "id": "gMum_6Htm8EY"
      },
      "source": [
        "**Answer:**"
      ]
    },
    {
      "cell_type": "markdown",
      "source": [
        "***The image demonstrates that the five most predictive features for determining income are age, hours-per-week, capital gain, marital status, and education-number. If these characteristics closely resemble the ones I previously found, it demonstrates that my argument regarding their significance was correct. If my selections differed, it shows that certain economic and social factors—such as capital gain and marital status—play a more important role in income prediction than previously thought.***"
      ],
      "metadata": {
        "id": "wd6I0Ez07M9S"
      }
    },
    {
      "cell_type": "markdown",
      "metadata": {
        "id": "RL_EQmpAm8EZ"
      },
      "source": [
        "### Feature Selection\n",
        "How does a model perform if we only use a subset of all the available features in the data? With less features required to train, the expectation is that training and prediction time is much lower — at the cost of performance metrics. From the visualization above, we see that the top five most important features contribute more than half of the importance of **all** features present in the data. This hints that we can attempt to *reduce the feature space* and simplify the information required for the model to learn. The code cell below will use the same optimized model you found earlier, and train it on the same training set *with only the top five important features*."
      ]
    },
    {
      "cell_type": "code",
      "execution_count": null,
      "metadata": {
        "collapsed": true,
        "colab": {
          "base_uri": "https://localhost:8080/"
        },
        "id": "f69BSsR-m8EZ",
        "outputId": "ba6142c3-9017-4045-c72a-2d8eea85f117"
      },
      "outputs": [
        {
          "output_type": "stream",
          "name": "stdout",
          "text": [
            "Final Model trained on full data\n",
            "------\n",
            "Accuracy on testing data: 0.8588\n",
            "F-score on testing data: 0.7300\n",
            "\n",
            "Final Model trained on reduced data\n",
            "------\n",
            "Accuracy on testing data: 0.8434\n",
            "F-score on testing data: 0.6878\n"
          ]
        }
      ],
      "source": [
        "# Import functionality for cloning a model\n",
        "from sklearn.base import clone\n",
        "\n",
        "# Reduce the feature space\n",
        "X_train_reduced = X_train[X_train.columns.values[(np.argsort(importances)[::-1])[:5]]]\n",
        "X_test_reduced = X_test[X_test.columns.values[(np.argsort(importances)[::-1])[:5]]]\n",
        "\n",
        "# Train on the \"best\" model found from grid search earlier\n",
        "clf = (clone(best_clf)).fit(X_train_reduced, y_train)\n",
        "\n",
        "# Make new predictions\n",
        "reduced_predictions = clf.predict(X_test_reduced)\n",
        "\n",
        "# Report scores from the final model using both versions of data\n",
        "print(\"Final Model trained on full data\\n------\")\n",
        "print(\"Accuracy on testing data: {:.4f}\".format(accuracy_score(y_test, best_predictions)))\n",
        "print(\"F-score on testing data: {:.4f}\".format(fbeta_score(y_test, best_predictions, beta = 0.5)))\n",
        "print(\"\\nFinal Model trained on reduced data\\n------\")\n",
        "print(\"Accuracy on testing data: {:.4f}\".format(accuracy_score(y_test, reduced_predictions)))\n",
        "print(\"F-score on testing data: {:.4f}\".format(fbeta_score(y_test, reduced_predictions, beta = 0.5)))"
      ]
    },
    {
      "cell_type": "markdown",
      "metadata": {
        "id": "BmyM3x7Gm8EZ"
      },
      "source": [
        "### Question 8 - Effects of Feature Selection\n",
        "\n",
        "* How does the final model's F-score and accuracy score on the reduced data using only five features compare to those same scores when all features are used?\n",
        "* If training time was a factor, would you consider using the reduced data as your training set?"
      ]
    },
    {
      "cell_type": "markdown",
      "metadata": {
        "id": "eGcgbE5em8EZ"
      },
      "source": [
        "**Answer:**"
      ]
    },
    {
      "cell_type": "markdown",
      "source": [
        "***The final model trained on the entire dataset achieved an accuracy of 0.8588 and an F-score of 0.7300, whereas the model trained on only the top five characteristics had a little lower accuracy of 0.8434 and an F-score of 0.6878. This illustrates that, while lowering features results in a minor performance loss, the model retains the majority of its predictive capacity. If training time is a big concern, utilizing the reduced dataset may be a realistic choice, as it simplifies the model and speeds up training while only slightly sacrificing performance. However, if enhancing forecast accuracy is the top aim, keeping all features might be a superior option.***\n"
      ],
      "metadata": {
        "id": "pw6DnC4J7oiu"
      }
    },
    {
      "cell_type": "markdown",
      "metadata": {
        "id": "AM0zLVLMm8EZ"
      },
      "source": [
        "> **Note**: Once you have completed all of the code implementations and successfully answered each question above, you may finalize your work by exporting the iPython Notebook as an HTML document. You can do this by using the menu above and navigating to  \n",
        "**File -> Download as -> HTML (.html)**. Include the finished document along with this notebook as your submission."
      ]
    }
  ],
  "metadata": {
    "kernelspec": {
      "display_name": "Python 3",
      "language": "python",
      "name": "python3"
    },
    "language_info": {
      "codemirror_mode": {
        "name": "ipython",
        "version": 3
      },
      "file_extension": ".py",
      "mimetype": "text/x-python",
      "name": "python",
      "nbconvert_exporter": "python",
      "pygments_lexer": "ipython3",
      "version": "3.6.1"
    },
    "colab": {
      "provenance": [],
      "collapsed_sections": [
        "pcP6Hm6Em8EN"
      ]
    }
  },
  "nbformat": 4,
  "nbformat_minor": 0
}